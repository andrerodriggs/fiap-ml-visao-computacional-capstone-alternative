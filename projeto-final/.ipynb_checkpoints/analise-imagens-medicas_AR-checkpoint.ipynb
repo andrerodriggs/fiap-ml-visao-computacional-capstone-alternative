{
 "cells": [
  {
   "cell_type": "markdown",
   "metadata": {},
   "source": [
    "# MBA FIAP Inteligência Artificial & Machine Learning\n",
    "\n",
    "## Visão Computacional: Análise de Imagens Médicas\n",
    "\n",
    "## 1. Introdução\n",
    "\n",
    "As tecnologias de imagens médicas estão cada vez mais integradas aos sitemas de visão computacional, incluindo as imagens de raio-x.\n",
    "\n",
    "Modelos de equipamentos modernos geram imagens digitais deste tipo de exame, proporcionando análises mais completas e menos _ad-hoc_, com isso algumas pré-análises podem ser realizadas por aplicações baseadas em inteligência artificial para confirmar ou sugerir diagnósticos ao profissional responsável pelo exame.\n",
    "\n",
    "No campo dos diagósticos por raios-x, a pnenumonia é uma das enfermidades onde seu uso é um dos mais aplicados para determinar o curso de tratamento.\n",
    "\n",
    "<p align=\"center\">\n",
    "    <img src=\"imagens/NORMAL2-IM-1422-0001.jpeg\">\n",
    "</p>\n",
    "\n",
    "## 2. Instruções\n",
    "\n",
    "Este projeto final tem como objetivo explorar os conhecimentos adquiridos nas aulas práticas.\n",
    "\n",
    "Por meio de uma trilha guiada, iremos constuir um modelo que seja capaz de classificar imagens de raio-x para determinar se a determinada pessoa está com alguma condição que necessita maiores cuidados.\n",
    "\n",
    "De acordo com as imagens disponíveis para o treinamento e validação, será de critério do grupo selecionar as quantidades ideais ou até mesmo pré-processar as imagens para obter o melhor resultado, nos principais indicadores de performance, como precisão, sensibilidade e pontuação F1.\n",
    "\n",
    "Este projeto poderá ser feita por grupos de até 4 pessoas.\n",
    "Caso este projeto seja substitutivo, deverá ser realizado por apenas uma pessoa.\n",
    "\n",
    "| Nome dos Integrantes     | RM            | Turma |\n",
    "| :----------------------- | :------------- | :-----: |\n",
    "| Integrante 1             | RM 12345      | `1IA` |\n",
    "| Integrante 2             | RM 12345      | `1IA` |\n",
    "| Integrante 3             | RM 12345      | `1IA` |\n",
    "| Integrante 4             | RM 12345      | `1IA` |\n",
    "\n",
    "Por ser um projeto guiado, fique atento quando houver as marcações **Implementação** indica que é necessário realizar alguma implementação em Python no bloco a seguir onde há a inscrição ```##IMPLEMENTAR``` e **Resposta** indica que é esperado uma resposta objetiva relacionado a algum questionamento. \n",
    "\n",
    "**Cada grupo pode utilizar nas respostas objetivas quaisquer itens necessários que enriqueçam seu ponto vista, como gráficos, fotos e, até mesmo, trechos de código-fonte.**\n",
    "\n",
    "Pode-se utilizar quantos blocos forem necessários para realizar determinadas implementações ou utilizá-las para justificar as respostas. Não é obrigatório utilizar somente o bloco indicado.\n",
    "\n",
    "Ao final não se esqueça de subir os arquivos do projeto nas contas do GitHub de cada membro, ou subir na do representante do grupo e os membros realizarem o fork do projeto.\n",
    "\n",
    "A avaliação terá mais ênfase nos seguintes tópicos de desenvolvimento do projeto:\n",
    " \n",
    "1. __Pré-Processamento__\n",
    "2. __Classificação__\n",
    "3. __Performance__\n",
    "4. __Conclusões Finais__"
   ]
  },
  {
   "cell_type": "markdown",
   "metadata": {},
   "source": [
    "## 3.1 Detalhe do problema: a pneunomia\n",
    "\n",
    "Fonte: [artigo](https://drauziovarella.uol.com.br/doencas-e-sintomas/pneumonia) do Dr. Drauzio Varella.\n",
    "\n",
    "Pneumonias são infecções que se instalam nos pulmões, órgãos duplos localizados um de cada lado da caixa torácica. Podem acometer a região dos alvéolos pulmonares onde desembocam as ramificações terminais dos brônquios e, às vezes, os interstícios (espaço entre um alvéolo e outro).\n",
    "\n",
    "Basicamente, pneumonia é provocada pela penetração de um agente infeccioso ou irritante (bactérias, vírus, fungos e por reações alérgicas) no espaço alveolar, onde ocorre a troca gasosa. Esse local deve estar sempre muito limpo, livre de substâncias que possam impedir o contato do ar com o sangue.\n",
    "\n",
    "Exame clínico, auscultação dos pulmões e radiografias de tórax são recursos essenciais para o diagnóstico de pneumonia.\n",
    "\n",
    "<p align=\"center\">\n",
    "    <img src=\"imagens/pneumonia.jpeg\">\n",
    "</p>"
   ]
  },
  {
   "cell_type": "markdown",
   "metadata": {},
   "source": [
    "## 3.2 Diagnóstico por raio-x"
   ]
  },
  {
   "cell_type": "markdown",
   "metadata": {},
   "source": [
    "O exame de raio-x traz diferenças em cada tipo de diagnóstico, sendo considerado os seguintes grupos de análise: **normal** (ou controle) onde não há nenhuma condição de infeção, **bacterial pneumonia** (pneumonia bacteriana) que representa a condição de infecção bacteriana e **viral pneumonia** que indica a condição de infecção vira. "
   ]
  },
  {
   "cell_type": "markdown",
   "metadata": {},
   "source": [
    "<p align=\"center\">\n",
    "<img src=\"imagens/raiox.png\" height=\"60%\" width=\"60%\">\n",
    "</p>"
   ]
  },
  {
   "cell_type": "markdown",
   "metadata": {},
   "source": [
    "As imagens de controle não são mais brancas ao centro que é onde fica o coração. Já nas imagens com pneumonia é possível notar regiões brancas ao redor dos pulmões, que é como o exame identifica as secreções responsáveis pela infeçcão.\n",
    "\n",
    "Quando mais regiões brancas ao redor do pulmão mais severa é a inflamação e menos se observa dos detalhes dos pulmões, ficando um pouco esmaecido diante desta condição."
   ]
  },
  {
   "cell_type": "markdown",
   "metadata": {},
   "source": [
    "## 4.1 Problema\n",
    "\n",
    "Construir um classificador utilizando _transfer learning_ para identificar as seguintes classes: **controle**, **pneumonia bacteriana** e **pneumonia viral**.\n",
    "\n",
    "Para construir este classificador, utilize o dataset do [Kaggle Chest Ray Pneumonia](https://www.kaggle.com/paultimothymooney/chest-xray-pneumonia) e organize os dados de forma a separar em cada uma das classes que já estão definidas no diretório ```raiox```, sendo ```controle``` para as imagens normais (sem inflamação), ```bacteria``` para as imagens de pneumonia bacteriana e ```viral``` para as imagens de pneumonia viral.\n",
    "\n",
    "Determine a quantidade de imagens a serem treinadas e validadas. Utiliza pelo menos, 100 imagens para cada classe.\n",
    "\n",
    "Compare os resultados com pelo menos 3 classificadores, obtendo os valores de **precisão (precision)**, **sensibilidade (recall)** e **pontuação F1 (F1 Score)**. No guia abaixo, foi indicado os seguintes modelos: ResNet50, VGG16 e VGG19. \n",
    "\n",
    ">Importante: a escolha do número de imagens devem ser o suficiente para alcançar o valor de **precisão** mínima de 70%.\n",
    "\n",
    "A construção do modelo será utilizada o framework Keras."
   ]
  },
  {
   "cell_type": "markdown",
   "metadata": {},
   "source": [
    "**Pergunta**: Qual o número de imagens que foram selecionadas para cada classe?"
   ]
  },
  {
   "cell_type": "markdown",
   "metadata": {},
   "source": [
    "**Resposta**:"
   ]
  },
  {
   "cell_type": "markdown",
   "metadata": {},
   "source": [
    "## 4.2 Componentes obrigatórios\n",
    "\n",
    "Este projeto requer a instalação dos seguintes componentes, via ```conda install```:\n",
    "\n",
    "* Keras\n",
    "* Tensorflow\n",
    "* Pillow\n",
    "* Matplotlib"
   ]
  },
  {
   "cell_type": "code",
   "execution_count": 1,
   "metadata": {
    "colab": {},
    "colab_type": "code",
    "id": "mWwHWYfcvjE6"
   },
   "outputs": [],
   "source": [
    "import os\n",
    "os.environ[\"KERAS_BACKEND\"] = \"plaidml.keras.backend\""
   ]
  },
  {
   "cell_type": "code",
   "execution_count": 2,
   "metadata": {},
   "outputs": [
    {
     "name": "stderr",
     "output_type": "stream",
     "text": [
      "Using plaidml.keras.backend backend.\n"
     ]
    }
   ],
   "source": [
    "import os\n",
    "\n",
    "import numpy as np\n",
    "import matplotlib.pyplot as plt\n",
    "from PIL import Image\n",
    "\n",
    "import cv2 as cv2\n",
    "\n",
    "%matplotlib inline\n",
    "\n",
    "import keras\n",
    "from keras.preprocessing.image import ImageDataGenerator\n",
    "from keras.applications import ResNet50\n",
    "from keras.applications import VGG16, VGG19\n",
    "from keras.applications import Xception\n",
    "from keras.applications.xception import preprocess_input\n",
    "from keras.applications.resnet50 import preprocess_input\n",
    "from keras.applications.vgg16 import preprocess_input\n",
    "from keras import Model, layers\n",
    "from keras.models import load_model, model_from_json\n",
    "\n",
    "from keras.callbacks import TensorBoard as tb\n",
    "from keras.callbacks import EarlyStopping, ModelCheckpoint, ReduceLROnPlateau\n",
    "\n",
    "import keras.backend as K\n",
    "\n",
    "import os\n",
    "import zipfile\n",
    "import shutil"
   ]
  },
  {
   "cell_type": "markdown",
   "metadata": {},
   "source": [
    "## 4.3 Carregando imagens de treinamento e validação\n",
    "\n",
    "Selecione a melhor divisão entre dados de treinamento e validação. O número deverá ser representado em número fracionário, 5% equivale a 0.05, por exemplo."
   ]
  },
  {
   "cell_type": "code",
   "execution_count": 3,
   "metadata": {},
   "outputs": [],
   "source": [
    "## IMPLEMENTE\n",
    "divisao_treino_validacao = 0.2"
   ]
  },
  {
   "cell_type": "code",
   "execution_count": 4,
   "metadata": {},
   "outputs": [],
   "source": [
    "dataset_root = \"../projeto-final/raiox/\"\n",
    "path_to_zip_file = \"../projeto-final/chest-xray-pneumonia.zip\"\n",
    "directory_to_extract_to = \"../projeto-final/\"\n",
    "\n",
    "dataset_train = \"../projeto-final/raiox/train\"\n",
    "dataset_test = \"../projeto-final/raiox/test\"\n",
    "dataset_val = \"../projeto-final/raiox/val\"\n",
    "\n",
    "srcDir = \"../projeto-final/chest_xray/\"\n",
    "log_path = \"../projeto-final/\"\n",
    "save_file = 'cv_trab_final_alt.hdf'\n",
    "\n",
    "SAVE_AUG_DIR = 0\n",
    "BS = 32"
   ]
  },
  {
   "cell_type": "code",
   "execution_count": 5,
   "metadata": {},
   "outputs": [],
   "source": [
    "## Verificando o diretório raiz e descomprimindo o dataset:\n",
    "\n",
    "if os.path.isdir(srcDir) == True:\n",
    "    shutil.rmtree(srcDir)\n",
    "\n",
    "if os.path.isdir(dataset_root) == True:\n",
    "    shutil.rmtree(dataset_root)\n",
    "\n",
    "with zipfile.ZipFile(path_to_zip_file, 'r') as zip_ref:\n",
    "    zip_ref.extractall(directory_to_extract_to)"
   ]
  },
  {
   "cell_type": "code",
   "execution_count": 6,
   "metadata": {},
   "outputs": [
    {
     "name": "stdout",
     "output_type": "stream",
     "text": [
      "Quantidade de amostras de test para categoria NORMAL = 234\n",
      "Quantidade de amostras de test para categoria PNEUMONIA = 390\n",
      "Quantidade de amostras de train para categoria NORMAL = 1341\n",
      "Quantidade de amostras de train para categoria PNEUMONIA = 3875\n",
      "Quantidade de amostras de val para categoria NORMAL = 8\n",
      "Quantidade de amostras de val para categoria PNEUMONIA = 8\n",
      "Quantidade de amostras de test para categoria de PNEUMONIA virus = 148\n",
      "Quantidade de amostras de test para categoria de PNEUMONIA bacteria = 242\n",
      "Quantidade de amostras de train para categoria de PNEUMONIA virus = 1345\n",
      "Quantidade de amostras de train para categoria de PNEUMONIA bacteria = 2530\n",
      "Quantidade de amostras de val para categoria de PNEUMONIA bacteria = 8\n"
     ]
    }
   ],
   "source": [
    "## Verificando as amostras oferecidas no dataset:\n",
    "for i in ['test', 'train', 'val']:\n",
    "    for j in ['NORMAL', 'PNEUMONIA']:\n",
    "        locals()['list_' + str(i) + '_' + str(j)] = [f for f in os.listdir(os.path.join(srcDir + i + '/' + j + '/'))]\n",
    "        if len(locals()['list_' + str(i) + '_' + str(j)]) == 0:\n",
    "            del locals()['list_' + str(i) + '_' + str(j)]\n",
    "        else:\n",
    "            print(\"Quantidade de amostras de {} para categoria {} = {}\".format(i,j,len(locals()['list_' + str(i) + '_' + str(j)])))\n",
    "        \n",
    "## Listando as amostras de acordo com seu grupo e classe:     \n",
    "for i in ['test', 'train', 'val']:\n",
    "    for j in ['NORMAL','PNEUMONIA']:\n",
    "        for k in ['virus', 'bacteria']:\n",
    "            locals()['list_' + str(i) + '_' + str(j) + '_' + str(k)] = [f for f in os.listdir(os.path.join(srcDir + i + '/' + j + '/')) if k in f]\n",
    "            if len(locals()['list_' + str(i) + '_' + str(j) + '_' + str(k)]) == 0:\n",
    "                del locals()['list_' + str(i) + '_' + str(j) + '_' + str(k)]\n",
    "            else:\n",
    "                print(\"Quantidade de amostras de {} para categoria de {} {} = {}\".format(i,j,k,len(locals()['list_' + str(i) + '_' + str(j) + '_' + str(k)])))"
   ]
  },
  {
   "cell_type": "code",
   "execution_count": 7,
   "metadata": {},
   "outputs": [],
   "source": [
    "for i in ['test', 'train', 'val']:\n",
    "    for j in ['NORMAL']:\n",
    "        if os.path.isdir(dataset_root + i + '/' + j) == False:\n",
    "            os.makedirs(dataset_root + i + '/' + j )\n",
    "        for f in locals()['list_' + i + '_' + j]:\n",
    "            src = srcDir + i + '/' + j + '/' + f\n",
    "            dst = dataset_root + i + '/' + j\n",
    "            shutil.move(src, dst) "
   ]
  },
  {
   "cell_type": "code",
   "execution_count": 8,
   "metadata": {},
   "outputs": [],
   "source": [
    "for i in ['test', 'train', 'val']:\n",
    "    for j in ['NORMAL', 'PNEUMONIA']:\n",
    "        for k in ['virus', 'bacteria']:\n",
    "            try:\n",
    "                if len(locals()['list_' + str(i) + '_' + str(j) + '_' + str(k)]) != 0:\n",
    "                    if os.path.isdir(dataset_root + i + '/' + k + '/') == False:\n",
    "                        os.makedirs(dataset_root + i + '/' + k + '/')\n",
    "                    for f in locals()['list_' + str(i) + '_' + str(j) + '_' + str(k)]:\n",
    "                            src = srcDir + i + '/' + j + '/' + f\n",
    "                            if 'virus' in f:\n",
    "                                dst = dataset_root + i + '/' + '/virus/'\n",
    "                            elif 'bacteria' in f:\n",
    "                                dst = dataset_root + i + '/' + '/bacteria/'\n",
    "                            shutil.move(src, dst)\n",
    "            \n",
    "                else:\n",
    "                    None\n",
    "            except:\n",
    "                None\n",
    "                "
   ]
  },
  {
   "cell_type": "code",
   "execution_count": 9,
   "metadata": {},
   "outputs": [],
   "source": [
    "AUGMENTATION_TRAIN_DIR = \"../projeto-final/raiox/train/TRAIN_AUG/\"\n",
    "AUGMENTATION_VALID_DIR = \"../projeto-final/raiox/val/VALID_AUG/\"\n",
    "AUGMENTATION_TEST_DIR = \"../projeto-final/raionx/test/TEST_AUG/\""
   ]
  },
  {
   "cell_type": "code",
   "execution_count": 10,
   "metadata": {},
   "outputs": [],
   "source": [
    "if SAVE_AUG_DIR==1:\n",
    "    if os.path.isdir(AUGMENTATION_TRAIN_DIR) == False:\n",
    "        os.makedirs(AUGMENTATION_TRAIN_DIR)\n",
    "    if os.path.isdir(AUGMENTATION_VALID_DIR) == False:\n",
    "            os.makedirs(AUGMENTATION_VALID_DIR)\n",
    "    if os.path.isdir(AUGMENTATION_TEST_DIR) == False:\n",
    "            os.makedirs(AUGMENTATION_TEST_DIR)"
   ]
  },
  {
   "cell_type": "code",
   "execution_count": 11,
   "metadata": {},
   "outputs": [],
   "source": [
    "if os.path.isdir(srcDir) == True:\n",
    "    shutil.rmtree(srcDir)"
   ]
  },
  {
   "cell_type": "code",
   "execution_count": 12,
   "metadata": {},
   "outputs": [
    {
     "name": "stdout",
     "output_type": "stream",
     "text": [
      "Found 4173 images belonging to 3 classes.\n",
      "Found 1043 images belonging to 3 classes.\n",
      "Found 624 images belonging to 3 classes.\n"
     ]
    }
   ],
   "source": [
    "# train_datagen = ImageDataGenerator(validation_split=divisao_treino_validacao)\n",
    "\n",
    "train_datagen = ImageDataGenerator(\n",
    "    rescale = 1./255,\n",
    "#     rotation_range = 10,\n",
    "#     shear_range = 0.2,\n",
    "#     zoom_range = 0.2,\n",
    "#     width_shift_range = 0.1,\n",
    "#     height_shift_range = 0.1,\n",
    "#     horizontal_flip = True,\n",
    "#     vertical_flip = True,\n",
    "    validation_split=divisao_treino_validacao # set validation split\n",
    ")\n",
    "    \n",
    "test_datagen = ImageDataGenerator(rescale = 1./255)\n",
    "\n",
    "\n",
    "\n",
    "train_generator = train_datagen.flow_from_directory(\n",
    "    dataset_train, \n",
    "    batch_size=BS,\n",
    "    color_mode = \"rgb\",   # 'grayscale', 'rgb', 'rgba'\n",
    "    seed=42,\n",
    "    class_mode=\"categorical\",\n",
    "#     interpolation = \"nearest\",\n",
    "    shuffle=True,\n",
    "    subset='training',                      # set as training data\n",
    "    target_size=(224,224),\n",
    "    save_to_dir = AUGMENTATION_TRAIN_DIR if SAVE_AUG_DIR==1 else None, \n",
    "    save_prefix = 'train_aug',\n",
    "    save_format = \"jpeg\",\n",
    ")\n",
    "\n",
    "\n",
    "validation_generator = train_datagen.flow_from_directory(\n",
    "    dataset_train,                          # same directory as training data\n",
    "    batch_size=BS,\n",
    "    color_mode = \"rgb\",   # 'grayscale', 'rgb', 'rgba'\n",
    "    seed=42,\n",
    "    class_mode=\"categorical\",\n",
    "    shuffle=True,\n",
    "#     interpolation = \"nearest\",\n",
    "    subset='validation',                    # set as validation data\n",
    "    target_size=(224,224),\n",
    "    save_to_dir = AUGMENTATION_TRAIN_DIR if SAVE_AUG_DIR==1 else None, \n",
    "    save_prefix = 'valid_aug',\n",
    "    save_format = \"jpeg\",\n",
    ")\n",
    "\n",
    "\n",
    "\n",
    "test_generator = test_datagen.flow_from_directory(\n",
    "    dataset_test,\n",
    "    batch_size=1,\n",
    "    color_mode = \"rgb\",   # 'grayscale', 'rgb', 'rgba'\n",
    "    seed=42,\n",
    "    class_mode=None,\n",
    "#     interpolation = \"nearest\",\n",
    "    shuffle=False,\n",
    "    target_size=(224,224),\n",
    "    save_to_dir = AUGMENTATION_TRAIN_DIR if SAVE_AUG_DIR==1 else None, \n",
    "    save_prefix = 'train_aug',\n",
    "    save_format = \"jpeg\",\n",
    ")"
   ]
  },
  {
   "cell_type": "code",
   "execution_count": 13,
   "metadata": {},
   "outputs": [],
   "source": [
    "# train_datagen = ImageDataGenerator(validation_split=divisao_treino_validacao)\n",
    "\n",
    "# train_generator = train_datagen.flow_from_directory(\n",
    "#     \"raiox/\",\n",
    "#     batch_size=32,\n",
    "#     class_mode=\"categorical\",\n",
    "#     color_mode=\"rgb\",\n",
    "#     target_size=(224,224),\n",
    "#     subset=\"training\")"
   ]
  },
  {
   "cell_type": "code",
   "execution_count": 14,
   "metadata": {},
   "outputs": [],
   "source": [
    "# val_generator = train_datagen.flow_from_directory(\n",
    "#     \"raiox/\",\n",
    "#     batch_size=32,\n",
    "#     class_mode=\"categorical\",\n",
    "#     color_mode=\"rgb\",\n",
    "#     target_size=(224,224),\n",
    "#     subset=\"validation\")"
   ]
  },
  {
   "cell_type": "markdown",
   "metadata": {
    "colab_type": "text",
    "id": "MEmtIHEdvjFp"
   },
   "source": [
    "## 4) Visualizing Six Train Image Samples"
   ]
  },
  {
   "cell_type": "code",
   "execution_count": 15,
   "metadata": {
    "colab": {},
    "colab_type": "code",
    "id": "L-XOY6UOvjFp"
   },
   "outputs": [],
   "source": [
    "x_train, y_train = train_generator.next()"
   ]
  },
  {
   "cell_type": "code",
   "execution_count": 16,
   "metadata": {
    "colab": {
     "base_uri": "https://localhost:8080/",
     "height": 33
    },
    "colab_type": "code",
    "executionInfo": {
     "elapsed": 9456,
     "status": "ok",
     "timestamp": 1578174724903,
     "user": {
      "displayName": "André Rodrigues",
      "photoUrl": "https://lh3.googleusercontent.com/a-/AAuE7mC4VcoLAlPEtIAJVPWTppZJ9S3ou2QH75zgDkJrgn0=s64",
      "userId": "01975921740661022202"
     },
     "user_tz": 180
    },
    "id": "qiQuF3grvjFp",
    "outputId": "8a1ca453-be76-4593-bdb2-eb4c3cc0fce2"
   },
   "outputs": [
    {
     "data": {
      "text/plain": [
       "(32, 224, 224, 3)"
      ]
     },
     "execution_count": 16,
     "metadata": {},
     "output_type": "execute_result"
    }
   ],
   "source": [
    "x_train.shape"
   ]
  },
  {
   "cell_type": "code",
   "execution_count": 17,
   "metadata": {
    "colab": {
     "base_uri": "https://localhost:8080/",
     "height": 33
    },
    "colab_type": "code",
    "executionInfo": {
     "elapsed": 9449,
     "status": "ok",
     "timestamp": 1578174724905,
     "user": {
      "displayName": "André Rodrigues",
      "photoUrl": "https://lh3.googleusercontent.com/a-/AAuE7mC4VcoLAlPEtIAJVPWTppZJ9S3ou2QH75zgDkJrgn0=s64",
      "userId": "01975921740661022202"
     },
     "user_tz": 180
    },
    "id": "iiXcWSvDvjFr",
    "outputId": "91863b78-a527-4fdc-97d8-046fcebbb4d7"
   },
   "outputs": [
    {
     "data": {
      "text/plain": [
       "(32, 3)"
      ]
     },
     "execution_count": 17,
     "metadata": {},
     "output_type": "execute_result"
    }
   ],
   "source": [
    "y_train.shape"
   ]
  },
  {
   "cell_type": "code",
   "execution_count": 18,
   "metadata": {
    "colab": {},
    "colab_type": "code",
    "id": "UDaWrYxFvjFt"
   },
   "outputs": [
    {
     "data": {
      "image/png": "[encoded data removed]",
      "text/plain": [
       "<Figure size 432x288 with 6 Axes>"
      ]
     },
     "metadata": {
      "needs_background": "light"
     },
     "output_type": "display_data"
    }
   ],
   "source": [
    "fig, axes = plt.subplots(nrows=2, ncols=3)\n",
    "ax0, ax1, ax2, ax3, ax4, ax5 = axes.flatten()\n",
    "axlist = [ax0, ax1, ax2, ax3, ax4, ax5]\n",
    "\n",
    "for i in range(0,min(BS,6)):\n",
    "    image = x_train[i]\n",
    "    cv2.imshow('{}_{}'.format(224,224), image[:,:,0])\n",
    "    ax = axlist[i]\n",
    "    ax.imshow(image[:,:,0])\n",
    "    \n",
    "fig.tight_layout()\n",
    "plt.show()"
   ]
  },
  {
   "cell_type": "markdown",
   "metadata": {},
   "source": [
    "## 4.4 Modelos de transfer learning\n",
    "\n",
    "O Keras já possui classes especializadas para os seguintes modelos de deep-learning treinados com o conjunto de dados [ImageNet](http://www.image-net.org/):\n",
    "  \n",
    "* Xception\n",
    "* VGG16\n",
    "* VGG19\n",
    "* ResNet50\n",
    "* InceptionV3\n",
    "* InceptionResNetV2\n",
    "* MobileNet\n",
    "* DenseNet\n",
    "* NASNet\n",
    "* MobileNetV2\n",
    "\n",
    "Mais detalhes, veja na [documentação do Keras](https://keras.io/applications/)."
   ]
  },
  {
   "cell_type": "markdown",
   "metadata": {},
   "source": [
    "Para este estudo, vamos utilizar para avaliação as seguintes arquiteturas: RestNet50, VGG15 e VGG19."
   ]
  },
  {
   "cell_type": "markdown",
   "metadata": {},
   "source": [
    "## 4.5 Indicadores de desempenho\n",
    "\n",
    "O Keras não possui os indicadores de desempenho como precisão, sensibilidade e pontuação f1 por padrão, portanto precisamos implementar externamente."
   ]
  },
  {
   "cell_type": "code",
   "execution_count": 19,
   "metadata": {},
   "outputs": [],
   "source": [
    "def recall_score(y_true, y_pred):\n",
    "    true_positives = K.sum(K.round(K.clip(y_true * y_pred, 0, 1)))\n",
    "    possible_positives = K.sum(K.round(K.clip(y_true, 0, 1)))\n",
    "    recall = true_positives / (possible_positives + K.epsilon())\n",
    "    return recall\n",
    "\n",
    "def precision_score(y_true, y_pred):\n",
    "    true_positives = K.sum(K.round(K.clip(y_true * y_pred, 0, 1)))\n",
    "    predicted_positives = K.sum(K.round(K.clip(y_pred, 0, 1)))\n",
    "    precision = true_positives / (predicted_positives + K.epsilon())\n",
    "    return precision\n",
    "\n",
    "def f1_score(y_true, y_pred):\n",
    "    precision = precision_score(y_true, y_pred)\n",
    "    recall = recall_score(y_true, y_pred)\n",
    "    return 2*((precision*recall)/(precision+recall+K.epsilon()))"
   ]
  },
  {
   "cell_type": "markdown",
   "metadata": {},
   "source": [
    "### 4.5.1 Arquitetura ResNet50"
   ]
  },
  {
   "cell_type": "markdown",
   "metadata": {},
   "source": [
    "**Pergunta**: Explique como é constituída a arquitetura do ResNet50? *Utilize, se necessário, gráficos, projetos que utilizam essa arquitetura. Detalhe também sua topologia em camadas e mostre quais as situações essa arquitetura pode ter mais êxito e quais cenários não tem.*"
   ]
  },
  {
   "cell_type": "markdown",
   "metadata": {},
   "source": [
    "**Resposta**:\n",
    "\n",
    "ResNet is a short name for Residual Network. As the name of the network indicates, the new terminology that this network introduces is residual learning.\n",
    "\n",
    "*What is the need for Residual Learning?*\n",
    "\n",
    "Deep convolutional neural networks have led to a series of breakthroughs for image classification. Many other visual recognition tasks have also greatly benefited from very deep models. So, over the years there is a trend to go more deeper, to solve more complex tasks and to also increase /improve the classification/recognition accuracy. But, as we go deeper; the training of neural network becomes difficult and also the accuracy starts saturating and then degrades also. Residual Learning tries to solve both these problems.\n",
    "\n",
    "*What is Residual Learning?*\n",
    "\n",
    "In general, in a deep convolutional neural network, several layers are stacked and are trained to the task at hand. The network learns several low/mid/high level features at the end of its layers. In residual learning, instead of trying to learn some features, we try to learn some residual. Residual can be simply understood as subtraction of feature learned from input of that layer. ResNet does this using shortcut connections (directly connecting input of nth layer to some (n+x)th layer. It has proved that training this form of networks is easier than training simple deep convolutional neural networks and also the problem of degrading accuracy is resolved.\n",
    "\n",
    "<!-- ![](https://i.ibb.co/QDX94PK/Screen-Shot-2020-04-07-at-4-46-43-PM.png) -->\n",
    "\n",
    "<img src=\"https://i.ibb.co/QDX94PK/Screen-Shot-2020-04-07-at-4-46-43-PM.png\" alt=\"Drawing\" style=\"width:600px; heigth:600px\"/>\n",
    "\n",
    "This is the fundamental concept of ResNet.\n",
    "\n",
    "ResNet50 expects an input shape (3, 224, 224).\n",
    "\n",
    "ResNet50 is a 50 layer Residual Network with 25 million parameters. There are other variants like ResNet101 and ResNet152 also.\n",
    "\n",
    "<!-- ![](https://i.ibb.co/VxfzW0h/ResNet50.png) -->\n",
    "\n",
    "<img src=\"https://i.ibb.co/VxfzW0h/ResNet50.png\" alt=\"Drawing\" style=\"width:600px; heigth:600px\"/>\n",
    "\n",
    "http://ethereon.github.io/netscope/#/gist/db945b393d40bfa26006\n",
    "\n",
    "According to http://cs231n.stanford.edu/reports/2016/pdfs/264_Report.pdf, by adding a simple shortcut\n",
    "connection can improve the accuracy in the image classification task and make the training process much faster. But\n",
    "the trade of is that residual networks are more prone to overfitting which is undesirable. If dropout layer and stochastic augmentation is used such overfitting is reduced.\n",
    "\n",
    "If you want further deeper understanding of ResNets, you have to read this paper. https://arxiv.org/pdf/1512.03385.... "
   ]
  },
  {
   "cell_type": "markdown",
   "metadata": {},
   "source": [
    "A técnica de transfer learning consiste de utilizar o mesmo modelo e treiná-lo para outas imagens. Por tal motivo, excluímos a última camada para modelar com as classes que definimos, ou seja, **controle**, **bacteriana** e **viral**."
   ]
  },
  {
   "cell_type": "markdown",
   "metadata": {},
   "source": [
    "Informe a quantidade de classes a serem classificadas."
   ]
  },
  {
   "cell_type": "code",
   "execution_count": 20,
   "metadata": {},
   "outputs": [
    {
     "data": {
      "text/plain": [
       "3"
      ]
     },
     "execution_count": 20,
     "metadata": {},
     "output_type": "execute_result"
    }
   ],
   "source": [
    "## IMPLEMENTE\n",
    "\n",
    "qtde_classes = train_generator.num_classes\n",
    "qtde_classes"
   ]
  },
  {
   "cell_type": "code",
   "execution_count": 21,
   "metadata": {},
   "outputs": [
    {
     "name": "stderr",
     "output_type": "stream",
     "text": [
      "INFO:plaidml:Opening device \"metal_amd_radeon_pro_5500m.0\"\n",
      "/Users/andrerodrigues/opt/miniconda3/envs/cv/lib/python3.5/site-packages/keras_applications/resnet50.py:265: UserWarning: The output shape of `ResNet50(include_top=False)` has been changed since Keras 2.2.0.\n",
      "  warnings.warn('The output shape of `ResNet50(include_top=False)` '\n"
     ]
    }
   ],
   "source": [
    "# conv_base = ResNet50(include_top=False) ## Original\n",
    "\n",
    "conv_base = ResNet50(include_top=False)\n",
    "\n",
    "for layer in conv_base.layers:\n",
    "    layer.trainable = False"
   ]
  },
  {
   "cell_type": "code",
   "execution_count": 22,
   "metadata": {},
   "outputs": [
    {
     "name": "stdout",
     "output_type": "stream",
     "text": [
      "__________________________________________________________________________________________________\n",
      "Layer (type)                    Output Shape         Param #     Connected to                     \n",
      "==================================================================================================\n",
      "input_1 (InputLayer)            (None, None, None, 3 0                                            \n",
      "__________________________________________________________________________________________________\n",
      "conv1_pad (ZeroPadding2D)       (None, None, None, 3 0           input_1[0][0]                    \n",
      "__________________________________________________________________________________________________\n",
      "conv1 (Conv2D)                  (None, None, None, 6 9472        conv1_pad[0][0]                  \n",
      "__________________________________________________________________________________________________\n",
      "bn_conv1 (BatchNormalization)   (None, None, None, 6 256         conv1[0][0]                      \n",
      "__________________________________________________________________________________________________\n",
      "activation_1 (Activation)       (None, None, None, 6 0           bn_conv1[0][0]                   \n",
      "__________________________________________________________________________________________________\n",
      "pool1_pad (ZeroPadding2D)       (None, None, None, 6 0           activation_1[0][0]               \n",
      "__________________________________________________________________________________________________\n",
      "max_pooling2d_1 (MaxPooling2D)  (None, None, None, 6 0           pool1_pad[0][0]                  \n",
      "__________________________________________________________________________________________________\n",
      "res2a_branch2a (Conv2D)         (None, None, None, 6 4160        max_pooling2d_1[0][0]            \n",
      "__________________________________________________________________________________________________\n",
      "bn2a_branch2a (BatchNormalizati (None, None, None, 6 256         res2a_branch2a[0][0]             \n",
      "__________________________________________________________________________________________________\n",
      "activation_2 (Activation)       (None, None, None, 6 0           bn2a_branch2a[0][0]              \n",
      "__________________________________________________________________________________________________\n",
      "res2a_branch2b (Conv2D)         (None, None, None, 6 36928       activation_2[0][0]               \n",
      "__________________________________________________________________________________________________\n",
      "bn2a_branch2b (BatchNormalizati (None, None, None, 6 256         res2a_branch2b[0][0]             \n",
      "__________________________________________________________________________________________________\n",
      "activation_3 (Activation)       (None, None, None, 6 0           bn2a_branch2b[0][0]              \n",
      "__________________________________________________________________________________________________\n",
      "res2a_branch2c (Conv2D)         (None, None, None, 2 16640       activation_3[0][0]               \n",
      "__________________________________________________________________________________________________\n",
      "res2a_branch1 (Conv2D)          (None, None, None, 2 16640       max_pooling2d_1[0][0]            \n",
      "__________________________________________________________________________________________________\n",
      "bn2a_branch2c (BatchNormalizati (None, None, None, 2 1024        res2a_branch2c[0][0]             \n",
      "__________________________________________________________________________________________________\n",
      "bn2a_branch1 (BatchNormalizatio (None, None, None, 2 1024        res2a_branch1[0][0]              \n",
      "__________________________________________________________________________________________________\n",
      "add_1 (Add)                     (None, None, None, 2 0           bn2a_branch2c[0][0]              \n",
      "                                                                 bn2a_branch1[0][0]               \n",
      "__________________________________________________________________________________________________\n",
      "activation_4 (Activation)       (None, None, None, 2 0           add_1[0][0]                      \n",
      "__________________________________________________________________________________________________\n",
      "res2b_branch2a (Conv2D)         (None, None, None, 6 16448       activation_4[0][0]               \n",
      "__________________________________________________________________________________________________\n",
      "bn2b_branch2a (BatchNormalizati (None, None, None, 6 256         res2b_branch2a[0][0]             \n",
      "__________________________________________________________________________________________________\n",
      "activation_5 (Activation)       (None, None, None, 6 0           bn2b_branch2a[0][0]              \n",
      "__________________________________________________________________________________________________\n",
      "res2b_branch2b (Conv2D)         (None, None, None, 6 36928       activation_5[0][0]               \n",
      "__________________________________________________________________________________________________\n",
      "bn2b_branch2b (BatchNormalizati (None, None, None, 6 256         res2b_branch2b[0][0]             \n",
      "__________________________________________________________________________________________________\n",
      "activation_6 (Activation)       (None, None, None, 6 0           bn2b_branch2b[0][0]              \n",
      "__________________________________________________________________________________________________\n",
      "res2b_branch2c (Conv2D)         (None, None, None, 2 16640       activation_6[0][0]               \n",
      "__________________________________________________________________________________________________\n",
      "bn2b_branch2c (BatchNormalizati (None, None, None, 2 1024        res2b_branch2c[0][0]             \n",
      "__________________________________________________________________________________________________\n",
      "add_2 (Add)                     (None, None, None, 2 0           bn2b_branch2c[0][0]              \n",
      "                                                                 activation_4[0][0]               \n",
      "__________________________________________________________________________________________________\n",
      "activation_7 (Activation)       (None, None, None, 2 0           add_2[0][0]                      \n",
      "__________________________________________________________________________________________________\n",
      "res2c_branch2a (Conv2D)         (None, None, None, 6 16448       activation_7[0][0]               \n",
      "__________________________________________________________________________________________________\n",
      "bn2c_branch2a (BatchNormalizati (None, None, None, 6 256         res2c_branch2a[0][0]             \n",
      "__________________________________________________________________________________________________\n",
      "activation_8 (Activation)       (None, None, None, 6 0           bn2c_branch2a[0][0]              \n",
      "__________________________________________________________________________________________________\n",
      "res2c_branch2b (Conv2D)         (None, None, None, 6 36928       activation_8[0][0]               \n",
      "__________________________________________________________________________________________________\n",
      "bn2c_branch2b (BatchNormalizati (None, None, None, 6 256         res2c_branch2b[0][0]             \n",
      "__________________________________________________________________________________________________\n",
      "activation_9 (Activation)       (None, None, None, 6 0           bn2c_branch2b[0][0]              \n",
      "__________________________________________________________________________________________________\n",
      "res2c_branch2c (Conv2D)         (None, None, None, 2 16640       activation_9[0][0]               \n",
      "__________________________________________________________________________________________________\n",
      "bn2c_branch2c (BatchNormalizati (None, None, None, 2 1024        res2c_branch2c[0][0]             \n",
      "__________________________________________________________________________________________________\n",
      "add_3 (Add)                     (None, None, None, 2 0           bn2c_branch2c[0][0]              \n",
      "                                                                 activation_7[0][0]               \n",
      "__________________________________________________________________________________________________\n",
      "activation_10 (Activation)      (None, None, None, 2 0           add_3[0][0]                      \n",
      "__________________________________________________________________________________________________\n",
      "res3a_branch2a (Conv2D)         (None, None, None, 1 32896       activation_10[0][0]              \n",
      "__________________________________________________________________________________________________\n",
      "bn3a_branch2a (BatchNormalizati (None, None, None, 1 512         res3a_branch2a[0][0]             \n",
      "__________________________________________________________________________________________________\n",
      "activation_11 (Activation)      (None, None, None, 1 0           bn3a_branch2a[0][0]              \n",
      "__________________________________________________________________________________________________\n",
      "res3a_branch2b (Conv2D)         (None, None, None, 1 147584      activation_11[0][0]              \n",
      "__________________________________________________________________________________________________\n",
      "bn3a_branch2b (BatchNormalizati (None, None, None, 1 512         res3a_branch2b[0][0]             \n",
      "__________________________________________________________________________________________________\n",
      "activation_12 (Activation)      (None, None, None, 1 0           bn3a_branch2b[0][0]              \n",
      "__________________________________________________________________________________________________\n",
      "res3a_branch2c (Conv2D)         (None, None, None, 5 66048       activation_12[0][0]              \n",
      "__________________________________________________________________________________________________\n",
      "res3a_branch1 (Conv2D)          (None, None, None, 5 131584      activation_10[0][0]              \n",
      "__________________________________________________________________________________________________\n",
      "bn3a_branch2c (BatchNormalizati (None, None, None, 5 2048        res3a_branch2c[0][0]             \n",
      "__________________________________________________________________________________________________\n",
      "bn3a_branch1 (BatchNormalizatio (None, None, None, 5 2048        res3a_branch1[0][0]              \n",
      "__________________________________________________________________________________________________\n",
      "add_4 (Add)                     (None, None, None, 5 0           bn3a_branch2c[0][0]              \n",
      "                                                                 bn3a_branch1[0][0]               \n",
      "__________________________________________________________________________________________________\n",
      "activation_13 (Activation)      (None, None, None, 5 0           add_4[0][0]                      \n",
      "__________________________________________________________________________________________________\n",
      "res3b_branch2a (Conv2D)         (None, None, None, 1 65664       activation_13[0][0]              \n",
      "__________________________________________________________________________________________________\n",
      "bn3b_branch2a (BatchNormalizati (None, None, None, 1 512         res3b_branch2a[0][0]             \n",
      "__________________________________________________________________________________________________\n",
      "activation_14 (Activation)      (None, None, None, 1 0           bn3b_branch2a[0][0]              \n",
      "__________________________________________________________________________________________________\n",
      "res3b_branch2b (Conv2D)         (None, None, None, 1 147584      activation_14[0][0]              \n",
      "__________________________________________________________________________________________________\n",
      "bn3b_branch2b (BatchNormalizati (None, None, None, 1 512         res3b_branch2b[0][0]             \n",
      "__________________________________________________________________________________________________\n",
      "activation_15 (Activation)      (None, None, None, 1 0           bn3b_branch2b[0][0]              \n",
      "__________________________________________________________________________________________________\n",
      "res3b_branch2c (Conv2D)         (None, None, None, 5 66048       activation_15[0][0]              \n",
      "__________________________________________________________________________________________________\n",
      "bn3b_branch2c (BatchNormalizati (None, None, None, 5 2048        res3b_branch2c[0][0]             \n",
      "__________________________________________________________________________________________________\n",
      "add_5 (Add)                     (None, None, None, 5 0           bn3b_branch2c[0][0]              \n",
      "                                                                 activation_13[0][0]              \n",
      "__________________________________________________________________________________________________\n",
      "activation_16 (Activation)      (None, None, None, 5 0           add_5[0][0]                      \n",
      "__________________________________________________________________________________________________\n",
      "res3c_branch2a (Conv2D)         (None, None, None, 1 65664       activation_16[0][0]              \n",
      "__________________________________________________________________________________________________\n",
      "bn3c_branch2a (BatchNormalizati (None, None, None, 1 512         res3c_branch2a[0][0]             \n",
      "__________________________________________________________________________________________________\n",
      "activation_17 (Activation)      (None, None, None, 1 0           bn3c_branch2a[0][0]              \n",
      "__________________________________________________________________________________________________\n",
      "res3c_branch2b (Conv2D)         (None, None, None, 1 147584      activation_17[0][0]              \n",
      "__________________________________________________________________________________________________\n",
      "bn3c_branch2b (BatchNormalizati (None, None, None, 1 512         res3c_branch2b[0][0]             \n",
      "__________________________________________________________________________________________________\n",
      "activation_18 (Activation)      (None, None, None, 1 0           bn3c_branch2b[0][0]              \n",
      "__________________________________________________________________________________________________\n",
      "res3c_branch2c (Conv2D)         (None, None, None, 5 66048       activation_18[0][0]              \n",
      "__________________________________________________________________________________________________\n",
      "bn3c_branch2c (BatchNormalizati (None, None, None, 5 2048        res3c_branch2c[0][0]             \n",
      "__________________________________________________________________________________________________\n",
      "add_6 (Add)                     (None, None, None, 5 0           bn3c_branch2c[0][0]              \n",
      "                                                                 activation_16[0][0]              \n",
      "__________________________________________________________________________________________________\n",
      "activation_19 (Activation)      (None, None, None, 5 0           add_6[0][0]                      \n",
      "__________________________________________________________________________________________________\n",
      "res3d_branch2a (Conv2D)         (None, None, None, 1 65664       activation_19[0][0]              \n",
      "__________________________________________________________________________________________________\n",
      "bn3d_branch2a (BatchNormalizati (None, None, None, 1 512         res3d_branch2a[0][0]             \n",
      "__________________________________________________________________________________________________\n",
      "activation_20 (Activation)      (None, None, None, 1 0           bn3d_branch2a[0][0]              \n",
      "__________________________________________________________________________________________________\n",
      "res3d_branch2b (Conv2D)         (None, None, None, 1 147584      activation_20[0][0]              \n",
      "__________________________________________________________________________________________________\n",
      "bn3d_branch2b (BatchNormalizati (None, None, None, 1 512         res3d_branch2b[0][0]             \n",
      "__________________________________________________________________________________________________\n",
      "activation_21 (Activation)      (None, None, None, 1 0           bn3d_branch2b[0][0]              \n",
      "__________________________________________________________________________________________________\n",
      "res3d_branch2c (Conv2D)         (None, None, None, 5 66048       activation_21[0][0]              \n",
      "__________________________________________________________________________________________________\n",
      "bn3d_branch2c (BatchNormalizati (None, None, None, 5 2048        res3d_branch2c[0][0]             \n",
      "__________________________________________________________________________________________________\n",
      "add_7 (Add)                     (None, None, None, 5 0           bn3d_branch2c[0][0]              \n",
      "                                                                 activation_19[0][0]              \n",
      "__________________________________________________________________________________________________\n",
      "activation_22 (Activation)      (None, None, None, 5 0           add_7[0][0]                      \n",
      "__________________________________________________________________________________________________\n",
      "res4a_branch2a (Conv2D)         (None, None, None, 2 131328      activation_22[0][0]              \n",
      "__________________________________________________________________________________________________\n",
      "bn4a_branch2a (BatchNormalizati (None, None, None, 2 1024        res4a_branch2a[0][0]             \n",
      "__________________________________________________________________________________________________\n",
      "activation_23 (Activation)      (None, None, None, 2 0           bn4a_branch2a[0][0]              \n",
      "__________________________________________________________________________________________________\n",
      "res4a_branch2b (Conv2D)         (None, None, None, 2 590080      activation_23[0][0]              \n",
      "__________________________________________________________________________________________________\n",
      "bn4a_branch2b (BatchNormalizati (None, None, None, 2 1024        res4a_branch2b[0][0]             \n",
      "__________________________________________________________________________________________________\n",
      "activation_24 (Activation)      (None, None, None, 2 0           bn4a_branch2b[0][0]              \n",
      "__________________________________________________________________________________________________\n",
      "res4a_branch2c (Conv2D)         (None, None, None, 1 263168      activation_24[0][0]              \n",
      "__________________________________________________________________________________________________\n",
      "res4a_branch1 (Conv2D)          (None, None, None, 1 525312      activation_22[0][0]              \n",
      "__________________________________________________________________________________________________\n",
      "bn4a_branch2c (BatchNormalizati (None, None, None, 1 4096        res4a_branch2c[0][0]             \n",
      "__________________________________________________________________________________________________\n",
      "bn4a_branch1 (BatchNormalizatio (None, None, None, 1 4096        res4a_branch1[0][0]              \n",
      "__________________________________________________________________________________________________\n",
      "add_8 (Add)                     (None, None, None, 1 0           bn4a_branch2c[0][0]              \n",
      "                                                                 bn4a_branch1[0][0]               \n",
      "__________________________________________________________________________________________________\n",
      "activation_25 (Activation)      (None, None, None, 1 0           add_8[0][0]                      \n",
      "__________________________________________________________________________________________________\n",
      "res4b_branch2a (Conv2D)         (None, None, None, 2 262400      activation_25[0][0]              \n",
      "__________________________________________________________________________________________________\n",
      "bn4b_branch2a (BatchNormalizati (None, None, None, 2 1024        res4b_branch2a[0][0]             \n",
      "__________________________________________________________________________________________________\n",
      "activation_26 (Activation)      (None, None, None, 2 0           bn4b_branch2a[0][0]              \n",
      "__________________________________________________________________________________________________\n",
      "res4b_branch2b (Conv2D)         (None, None, None, 2 590080      activation_26[0][0]              \n",
      "__________________________________________________________________________________________________\n",
      "bn4b_branch2b (BatchNormalizati (None, None, None, 2 1024        res4b_branch2b[0][0]             \n",
      "__________________________________________________________________________________________________\n",
      "activation_27 (Activation)      (None, None, None, 2 0           bn4b_branch2b[0][0]              \n",
      "__________________________________________________________________________________________________\n",
      "res4b_branch2c (Conv2D)         (None, None, None, 1 263168      activation_27[0][0]              \n",
      "__________________________________________________________________________________________________\n",
      "bn4b_branch2c (BatchNormalizati (None, None, None, 1 4096        res4b_branch2c[0][0]             \n",
      "__________________________________________________________________________________________________\n",
      "add_9 (Add)                     (None, None, None, 1 0           bn4b_branch2c[0][0]              \n",
      "                                                                 activation_25[0][0]              \n",
      "__________________________________________________________________________________________________\n",
      "activation_28 (Activation)      (None, None, None, 1 0           add_9[0][0]                      \n",
      "__________________________________________________________________________________________________\n",
      "res4c_branch2a (Conv2D)         (None, None, None, 2 262400      activation_28[0][0]              \n",
      "__________________________________________________________________________________________________\n",
      "bn4c_branch2a (BatchNormalizati (None, None, None, 2 1024        res4c_branch2a[0][0]             \n",
      "__________________________________________________________________________________________________\n",
      "activation_29 (Activation)      (None, None, None, 2 0           bn4c_branch2a[0][0]              \n",
      "__________________________________________________________________________________________________\n",
      "res4c_branch2b (Conv2D)         (None, None, None, 2 590080      activation_29[0][0]              \n",
      "__________________________________________________________________________________________________\n",
      "bn4c_branch2b (BatchNormalizati (None, None, None, 2 1024        res4c_branch2b[0][0]             \n",
      "__________________________________________________________________________________________________\n",
      "activation_30 (Activation)      (None, None, None, 2 0           bn4c_branch2b[0][0]              \n",
      "__________________________________________________________________________________________________\n",
      "res4c_branch2c (Conv2D)         (None, None, None, 1 263168      activation_30[0][0]              \n",
      "__________________________________________________________________________________________________\n",
      "bn4c_branch2c (BatchNormalizati (None, None, None, 1 4096        res4c_branch2c[0][0]             \n",
      "__________________________________________________________________________________________________\n",
      "add_10 (Add)                    (None, None, None, 1 0           bn4c_branch2c[0][0]              \n",
      "                                                                 activation_28[0][0]              \n",
      "__________________________________________________________________________________________________\n",
      "activation_31 (Activation)      (None, None, None, 1 0           add_10[0][0]                     \n",
      "__________________________________________________________________________________________________\n",
      "res4d_branch2a (Conv2D)         (None, None, None, 2 262400      activation_31[0][0]              \n",
      "__________________________________________________________________________________________________\n",
      "bn4d_branch2a (BatchNormalizati (None, None, None, 2 1024        res4d_branch2a[0][0]             \n",
      "__________________________________________________________________________________________________\n",
      "activation_32 (Activation)      (None, None, None, 2 0           bn4d_branch2a[0][0]              \n",
      "__________________________________________________________________________________________________\n",
      "res4d_branch2b (Conv2D)         (None, None, None, 2 590080      activation_32[0][0]              \n",
      "__________________________________________________________________________________________________\n",
      "bn4d_branch2b (BatchNormalizati (None, None, None, 2 1024        res4d_branch2b[0][0]             \n",
      "__________________________________________________________________________________________________\n",
      "activation_33 (Activation)      (None, None, None, 2 0           bn4d_branch2b[0][0]              \n",
      "__________________________________________________________________________________________________\n",
      "res4d_branch2c (Conv2D)         (None, None, None, 1 263168      activation_33[0][0]              \n",
      "__________________________________________________________________________________________________\n",
      "bn4d_branch2c (BatchNormalizati (None, None, None, 1 4096        res4d_branch2c[0][0]             \n",
      "__________________________________________________________________________________________________\n",
      "add_11 (Add)                    (None, None, None, 1 0           bn4d_branch2c[0][0]              \n",
      "                                                                 activation_31[0][0]              \n",
      "__________________________________________________________________________________________________\n",
      "activation_34 (Activation)      (None, None, None, 1 0           add_11[0][0]                     \n",
      "__________________________________________________________________________________________________\n",
      "res4e_branch2a (Conv2D)         (None, None, None, 2 262400      activation_34[0][0]              \n",
      "__________________________________________________________________________________________________\n",
      "bn4e_branch2a (BatchNormalizati (None, None, None, 2 1024        res4e_branch2a[0][0]             \n",
      "__________________________________________________________________________________________________\n",
      "activation_35 (Activation)      (None, None, None, 2 0           bn4e_branch2a[0][0]              \n",
      "__________________________________________________________________________________________________\n",
      "res4e_branch2b (Conv2D)         (None, None, None, 2 590080      activation_35[0][0]              \n",
      "__________________________________________________________________________________________________\n",
      "bn4e_branch2b (BatchNormalizati (None, None, None, 2 1024        res4e_branch2b[0][0]             \n",
      "__________________________________________________________________________________________________\n",
      "activation_36 (Activation)      (None, None, None, 2 0           bn4e_branch2b[0][0]              \n",
      "__________________________________________________________________________________________________\n",
      "res4e_branch2c (Conv2D)         (None, None, None, 1 263168      activation_36[0][0]              \n",
      "__________________________________________________________________________________________________\n",
      "bn4e_branch2c (BatchNormalizati (None, None, None, 1 4096        res4e_branch2c[0][0]             \n",
      "__________________________________________________________________________________________________\n",
      "add_12 (Add)                    (None, None, None, 1 0           bn4e_branch2c[0][0]              \n",
      "                                                                 activation_34[0][0]              \n",
      "__________________________________________________________________________________________________\n",
      "activation_37 (Activation)      (None, None, None, 1 0           add_12[0][0]                     \n",
      "__________________________________________________________________________________________________\n",
      "res4f_branch2a (Conv2D)         (None, None, None, 2 262400      activation_37[0][0]              \n",
      "__________________________________________________________________________________________________\n",
      "bn4f_branch2a (BatchNormalizati (None, None, None, 2 1024        res4f_branch2a[0][0]             \n",
      "__________________________________________________________________________________________________\n",
      "activation_38 (Activation)      (None, None, None, 2 0           bn4f_branch2a[0][0]              \n",
      "__________________________________________________________________________________________________\n",
      "res4f_branch2b (Conv2D)         (None, None, None, 2 590080      activation_38[0][0]              \n",
      "__________________________________________________________________________________________________\n",
      "bn4f_branch2b (BatchNormalizati (None, None, None, 2 1024        res4f_branch2b[0][0]             \n",
      "__________________________________________________________________________________________________\n",
      "activation_39 (Activation)      (None, None, None, 2 0           bn4f_branch2b[0][0]              \n",
      "__________________________________________________________________________________________________\n",
      "res4f_branch2c (Conv2D)         (None, None, None, 1 263168      activation_39[0][0]              \n",
      "__________________________________________________________________________________________________\n",
      "bn4f_branch2c (BatchNormalizati (None, None, None, 1 4096        res4f_branch2c[0][0]             \n",
      "__________________________________________________________________________________________________\n",
      "add_13 (Add)                    (None, None, None, 1 0           bn4f_branch2c[0][0]              \n",
      "                                                                 activation_37[0][0]              \n",
      "__________________________________________________________________________________________________\n",
      "activation_40 (Activation)      (None, None, None, 1 0           add_13[0][0]                     \n",
      "__________________________________________________________________________________________________\n",
      "res5a_branch2a (Conv2D)         (None, None, None, 5 524800      activation_40[0][0]              \n",
      "__________________________________________________________________________________________________\n",
      "bn5a_branch2a (BatchNormalizati (None, None, None, 5 2048        res5a_branch2a[0][0]             \n",
      "__________________________________________________________________________________________________\n",
      "activation_41 (Activation)      (None, None, None, 5 0           bn5a_branch2a[0][0]              \n",
      "__________________________________________________________________________________________________\n",
      "res5a_branch2b (Conv2D)         (None, None, None, 5 2359808     activation_41[0][0]              \n",
      "__________________________________________________________________________________________________\n",
      "bn5a_branch2b (BatchNormalizati (None, None, None, 5 2048        res5a_branch2b[0][0]             \n",
      "__________________________________________________________________________________________________\n",
      "activation_42 (Activation)      (None, None, None, 5 0           bn5a_branch2b[0][0]              \n",
      "__________________________________________________________________________________________________\n",
      "res5a_branch2c (Conv2D)         (None, None, None, 2 1050624     activation_42[0][0]              \n",
      "__________________________________________________________________________________________________\n",
      "res5a_branch1 (Conv2D)          (None, None, None, 2 2099200     activation_40[0][0]              \n",
      "__________________________________________________________________________________________________\n",
      "bn5a_branch2c (BatchNormalizati (None, None, None, 2 8192        res5a_branch2c[0][0]             \n",
      "__________________________________________________________________________________________________\n",
      "bn5a_branch1 (BatchNormalizatio (None, None, None, 2 8192        res5a_branch1[0][0]              \n",
      "__________________________________________________________________________________________________\n",
      "add_14 (Add)                    (None, None, None, 2 0           bn5a_branch2c[0][0]              \n",
      "                                                                 bn5a_branch1[0][0]               \n",
      "__________________________________________________________________________________________________\n",
      "activation_43 (Activation)      (None, None, None, 2 0           add_14[0][0]                     \n",
      "__________________________________________________________________________________________________\n",
      "res5b_branch2a (Conv2D)         (None, None, None, 5 1049088     activation_43[0][0]              \n",
      "__________________________________________________________________________________________________\n",
      "bn5b_branch2a (BatchNormalizati (None, None, None, 5 2048        res5b_branch2a[0][0]             \n",
      "__________________________________________________________________________________________________\n",
      "activation_44 (Activation)      (None, None, None, 5 0           bn5b_branch2a[0][0]              \n",
      "__________________________________________________________________________________________________\n",
      "res5b_branch2b (Conv2D)         (None, None, None, 5 2359808     activation_44[0][0]              \n",
      "__________________________________________________________________________________________________\n",
      "bn5b_branch2b (BatchNormalizati (None, None, None, 5 2048        res5b_branch2b[0][0]             \n",
      "__________________________________________________________________________________________________\n",
      "activation_45 (Activation)      (None, None, None, 5 0           bn5b_branch2b[0][0]              \n",
      "__________________________________________________________________________________________________\n",
      "res5b_branch2c (Conv2D)         (None, None, None, 2 1050624     activation_45[0][0]              \n",
      "__________________________________________________________________________________________________\n",
      "bn5b_branch2c (BatchNormalizati (None, None, None, 2 8192        res5b_branch2c[0][0]             \n",
      "__________________________________________________________________________________________________\n",
      "add_15 (Add)                    (None, None, None, 2 0           bn5b_branch2c[0][0]              \n",
      "                                                                 activation_43[0][0]              \n",
      "__________________________________________________________________________________________________\n",
      "activation_46 (Activation)      (None, None, None, 2 0           add_15[0][0]                     \n",
      "__________________________________________________________________________________________________\n",
      "res5c_branch2a (Conv2D)         (None, None, None, 5 1049088     activation_46[0][0]              \n",
      "__________________________________________________________________________________________________\n",
      "bn5c_branch2a (BatchNormalizati (None, None, None, 5 2048        res5c_branch2a[0][0]             \n",
      "__________________________________________________________________________________________________\n",
      "activation_47 (Activation)      (None, None, None, 5 0           bn5c_branch2a[0][0]              \n",
      "__________________________________________________________________________________________________\n",
      "res5c_branch2b (Conv2D)         (None, None, None, 5 2359808     activation_47[0][0]              \n",
      "__________________________________________________________________________________________________\n",
      "bn5c_branch2b (BatchNormalizati (None, None, None, 5 2048        res5c_branch2b[0][0]             \n",
      "__________________________________________________________________________________________________\n",
      "activation_48 (Activation)      (None, None, None, 5 0           bn5c_branch2b[0][0]              \n",
      "__________________________________________________________________________________________________\n",
      "res5c_branch2c (Conv2D)         (None, None, None, 2 1050624     activation_48[0][0]              \n",
      "__________________________________________________________________________________________________\n",
      "bn5c_branch2c (BatchNormalizati (None, None, None, 2 8192        res5c_branch2c[0][0]             \n",
      "__________________________________________________________________________________________________\n",
      "add_16 (Add)                    (None, None, None, 2 0           bn5c_branch2c[0][0]              \n",
      "                                                                 activation_46[0][0]              \n",
      "__________________________________________________________________________________________________\n",
      "activation_49 (Activation)      (None, None, None, 2 0           add_16[0][0]                     \n",
      "__________________________________________________________________________________________________\n",
      "global_average_pooling2d_1 (Glo (None, 2048)         0           activation_49[0][0]              \n",
      "__________________________________________________________________________________________________\n",
      "dense_1 (Dense)                 (None, 128)          262272      global_average_pooling2d_1[0][0] \n",
      "__________________________________________________________________________________________________\n",
      "dense_2 (Dense)                 (None, 3)            387         dense_1[0][0]                    \n",
      "==================================================================================================\n",
      "Total params: 23,850,371\n",
      "Trainable params: 262,659\n",
      "Non-trainable params: 23,587,712\n",
      "__________________________________________________________________________________________________\n"
     ]
    }
   ],
   "source": [
    "x = conv_base.output\n",
    "x = layers.GlobalAveragePooling2D()(x)\n",
    "x = layers.Dense(128, activation='relu')(x) \n",
    "\n",
    "predictions = layers.Dense(qtde_classes, activation='softmax')(x)\n",
    "model = Model(conv_base.input, predictions)\n",
    "\n",
    "model.summary()"
   ]
  },
  {
   "cell_type": "code",
   "execution_count": 23,
   "metadata": {},
   "outputs": [
    {
     "name": "stderr",
     "output_type": "stream",
     "text": [
      "/Users/andrerodrigues/opt/miniconda3/envs/cv/lib/python3.5/site-packages/numpy/ctypeslib.py:363: RuntimeWarning: A builtin ctypes object gave a PEP3118 format string that does not match its itemsize, so a best-guess will be made of the data type. Newer versions of python may behave correctly.\n",
      "  return array(obj, copy=False)\n"
     ]
    }
   ],
   "source": [
    "optimizer = keras.optimizers.Adam()\n",
    "model.compile(loss='categorical_crossentropy', optimizer=optimizer, metrics=[precision_score, recall_score, f1_score])"
   ]
  },
  {
   "cell_type": "markdown",
   "metadata": {},
   "source": [
    "O número de épocas define quantas vezes o modelo irá treinar e validar o erro, assim ajustando os pesos para melhor convergência.\n",
    "Escolha o número adequado de épocas para alcançarmos pelo menos **70% de precisão de validação**."
   ]
  },
  {
   "cell_type": "code",
   "execution_count": 33,
   "metadata": {},
   "outputs": [],
   "source": [
    "## IMPLEMENTE\n",
    "qtde_epocas = 100"
   ]
  },
  {
   "cell_type": "code",
   "execution_count": 34,
   "metadata": {
    "colab": {},
    "colab_type": "code",
    "id": "COegGCG9vjF1"
   },
   "outputs": [
    {
     "name": "stderr",
     "output_type": "stream",
     "text": [
      "/Users/andrerodrigues/opt/miniconda3/envs/cv/lib/python3.5/site-packages/keras/callbacks.py:760: UserWarning: You are not using the TensorFlow backend. write_images was set to False\n",
      "  warnings.warn('You are not using the TensorFlow backend. '\n"
     ]
    }
   ],
   "source": [
    "tensorboard = tb(\n",
    "    log_dir=log_path\n",
    "    ,write_graph=False #This eats a lot of space. Enable with caution!\n",
    "#     ,histogram_freq = 1\n",
    "    ,write_images=True\n",
    "    ,batch_size = BS\n",
    "    ,write_grads=True\n",
    ")"
   ]
  },
  {
   "cell_type": "code",
   "execution_count": 35,
   "metadata": {
    "colab": {},
    "colab_type": "code",
    "id": "hhC2f1g6vjF2"
   },
   "outputs": [],
   "source": [
    "earlystopper = EarlyStopping(\n",
    "    monitor='loss'\n",
    "    ,patience=15\n",
    "    ,verbose=1\n",
    ")"
   ]
  },
  {
   "cell_type": "code",
   "execution_count": 36,
   "metadata": {
    "colab": {},
    "colab_type": "code",
    "id": "QWy-jWr6vjF2"
   },
   "outputs": [],
   "source": [
    "checkpointer = ModelCheckpoint(\n",
    "    save_file\n",
    "    , verbose = 1\n",
    "    , save_best_only = True\n",
    "    , monitor=precision_score\n",
    "    , mode='min'\n",
    ")"
   ]
  },
  {
   "cell_type": "code",
   "execution_count": 37,
   "metadata": {
    "colab": {},
    "colab_type": "code",
    "id": "kULDnaMIvjF3"
   },
   "outputs": [],
   "source": [
    "callbacks = [\n",
    "    checkpointer\n",
    "    , earlystopper\n",
    "    , tensorboard\n",
    "]"
   ]
  },
  {
   "cell_type": "markdown",
   "metadata": {
    "colab_type": "text",
    "id": "XT831v5JiLdQ"
   },
   "source": [
    "the object created by datagen.flow doesn't know its size, and accordingly you should specify how many times it is expected to yield values, which you can calculate in conjunction with a batch size.\n",
    "\n",
    "Say you have 100 training points and want to work with a batch size of 30. Then, you would have 4 steps per epoch, calculated in the following way:"
   ]
  },
  {
   "cell_type": "code",
   "execution_count": 38,
   "metadata": {
    "colab": {
     "base_uri": "https://localhost:8080/",
     "height": 33
    },
    "colab_type": "code",
    "executionInfo": {
     "elapsed": 9410,
     "status": "ok",
     "timestamp": 1578174724908,
     "user": {
      "displayName": "André Rodrigues",
      "photoUrl": "https://lh3.googleusercontent.com/a-/AAuE7mC4VcoLAlPEtIAJVPWTppZJ9S3ou2QH75zgDkJrgn0=s64",
      "userId": "01975921740661022202"
     },
     "user_tz": 180
    },
    "id": "kK642opivjF5",
    "outputId": "93abfcb5-4322-4550-91b9-977a46658dc0"
   },
   "outputs": [
    {
     "data": {
      "text/plain": [
       "130"
      ]
     },
     "execution_count": 38,
     "metadata": {},
     "output_type": "execute_result"
    }
   ],
   "source": [
    "STEP_SIZE_TRAIN=train_generator.n//train_generator.batch_size\n",
    "STEP_SIZE_TRAIN"
   ]
  },
  {
   "cell_type": "code",
   "execution_count": 39,
   "metadata": {
    "colab": {
     "base_uri": "https://localhost:8080/",
     "height": 33
    },
    "colab_type": "code",
    "executionInfo": {
     "elapsed": 9400,
     "status": "ok",
     "timestamp": 1578174724908,
     "user": {
      "displayName": "André Rodrigues",
      "photoUrl": "https://lh3.googleusercontent.com/a-/AAuE7mC4VcoLAlPEtIAJVPWTppZJ9S3ou2QH75zgDkJrgn0=s64",
      "userId": "01975921740661022202"
     },
     "user_tz": 180
    },
    "id": "LR-9-XGZiLdW",
    "outputId": "8a725381-cdc6-4afc-8dad-3239ab63a0b7"
   },
   "outputs": [
    {
     "data": {
      "text/plain": [
       "624"
      ]
     },
     "execution_count": 39,
     "metadata": {},
     "output_type": "execute_result"
    }
   ],
   "source": [
    "STEP_SIZE_TEST=test_generator.n//test_generator.batch_size\n",
    "STEP_SIZE_TEST"
   ]
  },
  {
   "cell_type": "code",
   "execution_count": 40,
   "metadata": {
    "colab": {
     "base_uri": "https://localhost:8080/",
     "height": 33
    },
    "colab_type": "code",
    "executionInfo": {
     "elapsed": 9392,
     "status": "ok",
     "timestamp": 1578174724909,
     "user": {
      "displayName": "André Rodrigues",
      "photoUrl": "https://lh3.googleusercontent.com/a-/AAuE7mC4VcoLAlPEtIAJVPWTppZJ9S3ou2QH75zgDkJrgn0=s64",
      "userId": "01975921740661022202"
     },
     "user_tz": 180
    },
    "id": "8Ird9eoLvjF6",
    "outputId": "2461da2c-c5a6-4b6f-a95f-3c51a7bb4a14"
   },
   "outputs": [
    {
     "data": {
      "text/plain": [
       "32"
      ]
     },
     "execution_count": 40,
     "metadata": {},
     "output_type": "execute_result"
    }
   ],
   "source": [
    "STEP_SIZE_VALID=validation_generator.n//validation_generator.batch_size\n",
    "STEP_SIZE_VALID"
   ]
  },
  {
   "cell_type": "code",
   "execution_count": 41,
   "metadata": {},
   "outputs": [],
   "source": [
    "# history = model.fit_generator(generator=train_generator, \n",
    "#                               epochs=qtde_epocas, \n",
    "#                               validation_steps=5, \n",
    "#                               steps_per_epoch=5, \n",
    "#                               validation_data=validation_generator)"
   ]
  },
  {
   "cell_type": "code",
   "execution_count": 42,
   "metadata": {
    "colab": {
     "base_uri": "https://localhost:8080/",
     "height": 865
    },
    "colab_type": "code",
    "executionInfo": {
     "elapsed": 22713,
     "status": "error",
     "timestamp": 1578174738240,
     "user": {
      "displayName": "André Rodrigues",
      "photoUrl": "https://lh3.googleusercontent.com/a-/AAuE7mC4VcoLAlPEtIAJVPWTppZJ9S3ou2QH75zgDkJrgn0=s64",
      "userId": "01975921740661022202"
     },
     "user_tz": 180
    },
    "id": "Pwj847HavjF6",
    "outputId": "1bf5e1c9-c7a5-4481-f3f2-988d048464ad"
   },
   "outputs": [
    {
     "name": "stdout",
     "output_type": "stream",
     "text": [
      "Epoch 1/100\n",
      " 40/130 [========>.....................] - ETA: 55s - loss: 0.6949 - precision_score: 0.7498 - recall_score: 0.6914 - f1_score: 0.7187"
     ]
    },
    {
     "name": "stderr",
     "output_type": "stream",
     "text": [
      "INFO:plaidml:Analyzing Ops: 836 of 1334 operations complete\n"
     ]
    },
    {
     "name": "stdout",
     "output_type": "stream",
     "text": [
      "130/130 [==============================] - 93s 715ms/step - loss: 0.5802 - precision_score: 0.7698 - recall_score: 0.7295 - f1_score: 0.7487 - val_loss: 1.8670 - val_precision_score: 0.2578 - val_recall_score: 0.2578 - val_f1_score: 0.2578\n",
      "Epoch 2/100\n"
     ]
    },
    {
     "name": "stderr",
     "output_type": "stream",
     "text": [
      "/Users/andrerodrigues/opt/miniconda3/envs/cv/lib/python3.5/site-packages/keras/callbacks.py:434: RuntimeWarning: Can save best model only with <function precision_score at 0x7fbd30305510> available, skipping.\n",
      "  'skipping.' % (self.monitor), RuntimeWarning)\n"
     ]
    },
    {
     "name": "stdout",
     "output_type": "stream",
     "text": [
      "130/130 [==============================] - 98s 752ms/step - loss: 0.4367 - precision_score: 0.8246 - recall_score: 0.7961 - f1_score: 0.8098 - val_loss: 1.9653 - val_precision_score: 0.2572 - val_recall_score: 0.2572 - val_f1_score: 0.2572\n",
      "Epoch 3/100\n",
      "130/130 [==============================] - 93s 718ms/step - loss: 0.4007 - precision_score: 0.8331 - recall_score: 0.8124 - f1_score: 0.8225 - val_loss: 1.7632 - val_precision_score: 0.2572 - val_recall_score: 0.2572 - val_f1_score: 0.2572\n",
      "Epoch 4/100\n",
      "130/130 [==============================] - 94s 725ms/step - loss: 0.3720 - precision_score: 0.8462 - recall_score: 0.8286 - f1_score: 0.8372 - val_loss: 1.8267 - val_precision_score: 0.2631 - val_recall_score: 0.2631 - val_f1_score: 0.2631\n",
      "Epoch 5/100\n",
      "130/130 [==============================] - 95s 733ms/step - loss: 0.3477 - precision_score: 0.8587 - recall_score: 0.8448 - f1_score: 0.8516 - val_loss: 2.0549 - val_precision_score: 0.2601 - val_recall_score: 0.2601 - val_f1_score: 0.2601\n",
      "Epoch 6/100\n",
      "130/130 [==============================] - 96s 735ms/step - loss: 0.3279 - precision_score: 0.8651 - recall_score: 0.8554 - f1_score: 0.8602 - val_loss: 2.3814 - val_precision_score: 0.2374 - val_recall_score: 0.2374 - val_f1_score: 0.2374\n",
      "Epoch 7/100\n",
      "130/130 [==============================] - 96s 740ms/step - loss: 0.3176 - precision_score: 0.8676 - recall_score: 0.8586 - f1_score: 0.8630 - val_loss: 2.2235 - val_precision_score: 0.2700 - val_recall_score: 0.2700 - val_f1_score: 0.2700\n",
      "Epoch 8/100\n",
      "130/130 [==============================] - 96s 741ms/step - loss: 0.3026 - precision_score: 0.8737 - recall_score: 0.8655 - f1_score: 0.8695 - val_loss: 2.2353 - val_precision_score: 0.2641 - val_recall_score: 0.2641 - val_f1_score: 0.2641\n",
      "Epoch 9/100\n",
      "130/130 [==============================] - 97s 747ms/step - loss: 0.2873 - precision_score: 0.8794 - recall_score: 0.8711 - f1_score: 0.8751 - val_loss: 2.6055 - val_precision_score: 0.2522 - val_recall_score: 0.2522 - val_f1_score: 0.2522\n",
      "Epoch 10/100\n",
      "130/130 [==============================] - 99s 764ms/step - loss: 0.2466 - precision_score: 0.8973 - recall_score: 0.8940 - f1_score: 0.8957 - val_loss: 2.2987 - val_precision_score: 0.2582 - val_recall_score: 0.2582 - val_f1_score: 0.2582\n",
      "Epoch 11/100\n",
      "130/130 [==============================] - 102s 781ms/step - loss: 0.2393 - precision_score: 0.9027 - recall_score: 0.8972 - f1_score: 0.8999 - val_loss: 2.5727 - val_precision_score: 0.2792 - val_recall_score: 0.2779 - val_f1_score: 0.2786\n",
      "Epoch 12/100\n",
      "130/130 [==============================] - 101s 780ms/step - loss: 0.2267 - precision_score: 0.9105 - recall_score: 0.9070 - f1_score: 0.9087 - val_loss: 2.6298 - val_precision_score: 0.4837 - val_recall_score: 0.4837 - val_f1_score: 0.4837\n",
      "Epoch 13/100\n",
      "130/130 [==============================] - 102s 784ms/step - loss: 0.2333 - precision_score: 0.9071 - recall_score: 0.9006 - f1_score: 0.9038 - val_loss: 2.6220 - val_precision_score: 0.4975 - val_recall_score: 0.4975 - val_f1_score: 0.4975\n",
      "Epoch 14/100\n",
      "130/130 [==============================] - 101s 779ms/step - loss: 0.1920 - precision_score: 0.9275 - recall_score: 0.9250 - f1_score: 0.9262 - val_loss: 2.7634 - val_precision_score: 0.4926 - val_recall_score: 0.4926 - val_f1_score: 0.4926\n",
      "Epoch 15/100\n",
      "130/130 [==============================] - 97s 748ms/step - loss: 0.1545 - precision_score: 0.9384 - recall_score: 0.9362 - f1_score: 0.9373 - val_loss: 3.0307 - val_precision_score: 0.4926 - val_recall_score: 0.4926 - val_f1_score: 0.4926\n",
      "Epoch 16/100\n",
      "130/130 [==============================] - 98s 751ms/step - loss: 0.1497 - precision_score: 0.9451 - recall_score: 0.9416 - f1_score: 0.9433 - val_loss: 3.0852 - val_precision_score: 0.4787 - val_recall_score: 0.4787 - val_f1_score: 0.4787\n",
      "Epoch 17/100\n",
      "130/130 [==============================] - 98s 754ms/step - loss: 0.1531 - precision_score: 0.9409 - recall_score: 0.9390 - f1_score: 0.9399 - val_loss: 3.4133 - val_precision_score: 0.4669 - val_recall_score: 0.4669 - val_f1_score: 0.4669\n",
      "Epoch 18/100\n",
      "130/130 [==============================] - 98s 751ms/step - loss: 0.1438 - precision_score: 0.9462 - recall_score: 0.9433 - f1_score: 0.9447 - val_loss: 3.3369 - val_precision_score: 0.4985 - val_recall_score: 0.4985 - val_f1_score: 0.4985\n",
      "Epoch 19/100\n",
      "130/130 [==============================] - 99s 759ms/step - loss: 0.1101 - precision_score: 0.9644 - recall_score: 0.9637 - f1_score: 0.9640 - val_loss: 3.5856 - val_precision_score: 0.4768 - val_recall_score: 0.4768 - val_f1_score: 0.4768\n",
      "Epoch 20/100\n",
      "130/130 [==============================] - 98s 755ms/step - loss: 0.1095 - precision_score: 0.9600 - recall_score: 0.9584 - f1_score: 0.9592 - val_loss: 3.7048 - val_precision_score: 0.4916 - val_recall_score: 0.4916 - val_f1_score: 0.4916\n",
      "Epoch 21/100\n",
      "130/130 [==============================] - 102s 782ms/step - loss: 0.1257 - precision_score: 0.9565 - recall_score: 0.9547 - f1_score: 0.9556 - val_loss: 3.5321 - val_precision_score: 0.4866 - val_recall_score: 0.4866 - val_f1_score: 0.4866\n",
      "Epoch 22/100\n",
      "130/130 [==============================] - 102s 784ms/step - loss: 0.0955 - precision_score: 0.9694 - recall_score: 0.9678 - f1_score: 0.9686 - val_loss: 4.2163 - val_precision_score: 0.4857 - val_recall_score: 0.4857 - val_f1_score: 0.4857\n",
      "Epoch 23/100\n",
      "130/130 [==============================] - 99s 761ms/step - loss: 0.0711 - precision_score: 0.9794 - recall_score: 0.9787 - f1_score: 0.9791 - val_loss: 4.8576 - val_precision_score: 0.4797 - val_recall_score: 0.4797 - val_f1_score: 0.4797\n",
      "Epoch 24/100\n",
      "130/130 [==============================] - 98s 751ms/step - loss: 0.0751 - precision_score: 0.9752 - recall_score: 0.9748 - f1_score: 0.9750 - val_loss: 4.9579 - val_precision_score: 0.4827 - val_recall_score: 0.4827 - val_f1_score: 0.4827\n",
      "Epoch 25/100\n",
      "130/130 [==============================] - 99s 758ms/step - loss: 0.0608 - precision_score: 0.9806 - recall_score: 0.9797 - f1_score: 0.9801 - val_loss: 4.2136 - val_precision_score: 0.4955 - val_recall_score: 0.4955 - val_f1_score: 0.4955\n",
      "Epoch 26/100\n",
      "130/130 [==============================] - 98s 754ms/step - loss: 0.0645 - precision_score: 0.9801 - recall_score: 0.9789 - f1_score: 0.9795 - val_loss: 4.6173 - val_precision_score: 0.4688 - val_recall_score: 0.4688 - val_f1_score: 0.4688\n",
      "Epoch 27/100\n",
      "130/130 [==============================] - 98s 752ms/step - loss: 0.0422 - precision_score: 0.9925 - recall_score: 0.9916 - f1_score: 0.9921 - val_loss: 4.9040 - val_precision_score: 0.4955 - val_recall_score: 0.4955 - val_f1_score: 0.4955\n",
      "Epoch 28/100\n",
      "130/130 [==============================] - 99s 760ms/step - loss: 0.0717 - precision_score: 0.9768 - recall_score: 0.9756 - f1_score: 0.9762 - val_loss: 5.2128 - val_precision_score: 0.4748 - val_recall_score: 0.4748 - val_f1_score: 0.4748\n",
      "Epoch 29/100\n",
      "130/130 [==============================] - 101s 776ms/step - loss: 0.0707 - precision_score: 0.9761 - recall_score: 0.9757 - f1_score: 0.9759 - val_loss: 5.1939 - val_precision_score: 0.4916 - val_recall_score: 0.4916 - val_f1_score: 0.4916\n",
      "Epoch 30/100\n",
      "130/130 [==============================] - 99s 765ms/step - loss: 0.0457 - precision_score: 0.9882 - recall_score: 0.9873 - f1_score: 0.9877 - val_loss: 5.4733 - val_precision_score: 0.4797 - val_recall_score: 0.4797 - val_f1_score: 0.4797\n",
      "Epoch 31/100\n",
      "130/130 [==============================] - 98s 754ms/step - loss: 0.0366 - precision_score: 0.9909 - recall_score: 0.9909 - f1_score: 0.9909 - val_loss: 5.4133 - val_precision_score: 0.4995 - val_recall_score: 0.4995 - val_f1_score: 0.4995\n",
      "Epoch 32/100\n",
      "130/130 [==============================] - 98s 752ms/step - loss: 0.0345 - precision_score: 0.9921 - recall_score: 0.9921 - f1_score: 0.9921 - val_loss: 5.9105 - val_precision_score: 0.4797 - val_recall_score: 0.4797 - val_f1_score: 0.4797\n",
      "Epoch 33/100\n",
      "130/130 [==============================] - 97s 749ms/step - loss: 0.0360 - precision_score: 0.9909 - recall_score: 0.9899 - f1_score: 0.9904 - val_loss: 6.5082 - val_precision_score: 0.4827 - val_recall_score: 0.4827 - val_f1_score: 0.4827\n",
      "Epoch 34/100\n",
      "130/130 [==============================] - 98s 755ms/step - loss: 0.0439 - precision_score: 0.9863 - recall_score: 0.9856 - f1_score: 0.9859 - val_loss: 6.2578 - val_precision_score: 0.4893 - val_recall_score: 0.4893 - val_f1_score: 0.4893\n",
      "Epoch 35/100\n",
      "130/130 [==============================] - 103s 791ms/step - loss: 0.0545 - precision_score: 0.9844 - recall_score: 0.9832 - f1_score: 0.9838 - val_loss: 6.5048 - val_precision_score: 0.4787 - val_recall_score: 0.4787 - val_f1_score: 0.4787\n",
      "Epoch 36/100\n",
      "130/130 [==============================] - 103s 796ms/step - loss: 0.0292 - precision_score: 0.9917 - recall_score: 0.9915 - f1_score: 0.9916 - val_loss: 6.6449 - val_precision_score: 0.4857 - val_recall_score: 0.4857 - val_f1_score: 0.4857\n",
      "Epoch 37/100\n",
      "130/130 [==============================] - 105s 808ms/step - loss: 0.0420 - precision_score: 0.9868 - recall_score: 0.9868 - f1_score: 0.9868 - val_loss: 6.4842 - val_precision_score: 0.4827 - val_recall_score: 0.4827 - val_f1_score: 0.4827\n",
      "Epoch 38/100\n",
      "130/130 [==============================] - 105s 810ms/step - loss: 0.0343 - precision_score: 0.9885 - recall_score: 0.9882 - f1_score: 0.9883 - val_loss: 6.4158 - val_precision_score: 0.4817 - val_recall_score: 0.4817 - val_f1_score: 0.4817\n",
      "Epoch 39/100\n",
      "130/130 [==============================] - 102s 784ms/step - loss: 0.0183 - precision_score: 0.9966 - recall_score: 0.9966 - f1_score: 0.9966 - val_loss: 6.8838 - val_precision_score: 0.4926 - val_recall_score: 0.4926 - val_f1_score: 0.4926\n",
      "Epoch 40/100\n",
      "130/130 [==============================] - 100s 772ms/step - loss: 0.0144 - precision_score: 0.9974 - recall_score: 0.9974 - f1_score: 0.9974 - val_loss: 6.4101 - val_precision_score: 0.4876 - val_recall_score: 0.4876 - val_f1_score: 0.4876\n",
      "Epoch 41/100\n",
      "130/130 [==============================] - 100s 768ms/step - loss: 0.0132 - precision_score: 0.9976 - recall_score: 0.9974 - f1_score: 0.9975 - val_loss: 7.0723 - val_precision_score: 0.4926 - val_recall_score: 0.4926 - val_f1_score: 0.4926\n",
      "Epoch 42/100\n",
      "130/130 [==============================] - 101s 777ms/step - loss: 0.0140 - precision_score: 0.9978 - recall_score: 0.9976 - f1_score: 0.9977 - val_loss: 8.1066 - val_precision_score: 0.4698 - val_recall_score: 0.4698 - val_f1_score: 0.4698\n",
      "Epoch 43/100\n",
      "130/130 [==============================] - 100s 772ms/step - loss: 0.0300 - precision_score: 0.9908 - recall_score: 0.9908 - f1_score: 0.9908 - val_loss: 7.4325 - val_precision_score: 0.4866 - val_recall_score: 0.4866 - val_f1_score: 0.4866\n",
      "Epoch 44/100\n",
      "130/130 [==============================] - 101s 777ms/step - loss: 0.0285 - precision_score: 0.9910 - recall_score: 0.9910 - f1_score: 0.9910 - val_loss: 8.0217 - val_precision_score: 0.4936 - val_recall_score: 0.4936 - val_f1_score: 0.4936\n",
      "Epoch 45/100\n",
      "130/130 [==============================] - 103s 792ms/step - loss: 0.0633 - precision_score: 0.9785 - recall_score: 0.9785 - f1_score: 0.9785 - val_loss: 8.6624 - val_precision_score: 0.4777 - val_recall_score: 0.4777 - val_f1_score: 0.4777\n",
      "Epoch 46/100\n",
      "130/130 [==============================] - 101s 774ms/step - loss: 0.0336 - precision_score: 0.9885 - recall_score: 0.9885 - f1_score: 0.9885 - val_loss: 8.9828 - val_precision_score: 0.4807 - val_recall_score: 0.4807 - val_f1_score: 0.4807\n",
      "Epoch 47/100\n",
      "130/130 [==============================] - 99s 758ms/step - loss: 0.0220 - precision_score: 0.9940 - recall_score: 0.9940 - f1_score: 0.9940 - val_loss: 8.9876 - val_precision_score: 0.4985 - val_recall_score: 0.4985 - val_f1_score: 0.4985\n",
      "Epoch 48/100\n",
      "130/130 [==============================] - 99s 759ms/step - loss: 0.0216 - precision_score: 0.9928 - recall_score: 0.9928 - f1_score: 0.9928 - val_loss: 8.3551 - val_precision_score: 0.4936 - val_recall_score: 0.4936 - val_f1_score: 0.4936\n",
      "Epoch 49/100\n",
      "130/130 [==============================] - 96s 736ms/step - loss: 0.0184 - precision_score: 0.9945 - recall_score: 0.9945 - f1_score: 0.9945 - val_loss: 9.5773 - val_precision_score: 0.4619 - val_recall_score: 0.4619 - val_f1_score: 0.4619\n",
      "Epoch 50/100\n",
      "130/130 [==============================] - 97s 745ms/step - loss: 0.0408 - precision_score: 0.9836 - recall_score: 0.9832 - f1_score: 0.9834 - val_loss: 9.3022 - val_precision_score: 0.4906 - val_recall_score: 0.4906 - val_f1_score: 0.4906\n",
      "Epoch 51/100\n",
      "130/130 [==============================] - 97s 748ms/step - loss: 0.0225 - precision_score: 0.9928 - recall_score: 0.9928 - f1_score: 0.9928 - val_loss: 9.5471 - val_precision_score: 0.4857 - val_recall_score: 0.4857 - val_f1_score: 0.4857\n",
      "Epoch 52/100\n",
      "130/130 [==============================] - 100s 771ms/step - loss: 0.0423 - precision_score: 0.9867 - recall_score: 0.9858 - f1_score: 0.9863 - val_loss: 8.2927 - val_precision_score: 0.5035 - val_recall_score: 0.5035 - val_f1_score: 0.5035\n",
      "Epoch 53/100\n",
      "130/130 [==============================] - 100s 770ms/step - loss: 0.0158 - precision_score: 0.9958 - recall_score: 0.9956 - f1_score: 0.9957 - val_loss: 9.3984 - val_precision_score: 0.4609 - val_recall_score: 0.4609 - val_f1_score: 0.4609\n",
      "Epoch 54/100\n",
      "130/130 [==============================] - 99s 764ms/step - loss: 0.0179 - precision_score: 0.9952 - recall_score: 0.9952 - f1_score: 0.9952 - val_loss: 8.4851 - val_precision_score: 0.4985 - val_recall_score: 0.4985 - val_f1_score: 0.4985\n",
      "Epoch 55/100\n",
      "130/130 [==============================] - 100s 770ms/step - loss: 0.0152 - precision_score: 0.9964 - recall_score: 0.9964 - f1_score: 0.9964 - val_loss: 9.4158 - val_precision_score: 0.4649 - val_recall_score: 0.4649 - val_f1_score: 0.4649\n",
      "Epoch 56/100\n",
      "130/130 [==============================] - 102s 784ms/step - loss: 0.0184 - precision_score: 0.9947 - recall_score: 0.9945 - f1_score: 0.9946 - val_loss: 7.4953 - val_precision_score: 0.5064 - val_recall_score: 0.5064 - val_f1_score: 0.5064\n",
      "Epoch 00056: early stopping\n"
     ]
    }
   ],
   "source": [
    "# fit model\n",
    "history = model.fit_generator(\n",
    "    generator=train_generator\n",
    "    ,steps_per_epoch=STEP_SIZE_TRAIN\n",
    "    ,validation_data=validation_generator\n",
    "    ,validation_steps=STEP_SIZE_VALID\n",
    "    ,epochs=qtde_epocas\n",
    "    ,callbacks= callbacks\n",
    "#     , class_weight = class_weight\n",
    ")\n",
    "\n"
   ]
  },
  {
   "cell_type": "markdown",
   "metadata": {
    "colab_type": "text",
    "id": "8ga5TBpHvjF7"
   },
   "source": [
    "## 8) Saving the Model"
   ]
  },
  {
   "cell_type": "code",
   "execution_count": 43,
   "metadata": {
    "colab": {},
    "colab_type": "code",
    "id": "FB_Zz8_MvjF7"
   },
   "outputs": [
    {
     "name": "stderr",
     "output_type": "stream",
     "text": [
      "/Users/andrerodrigues/opt/miniconda3/envs/cv/lib/python3.5/site-packages/numpy/ctypeslib.py:363: RuntimeWarning: A builtin ctypes object gave a PEP3118 format string that does not match its itemsize, so a best-guess will be made of the data type. Newer versions of python may behave correctly.\n",
      "  return array(obj, copy=False)\n"
     ]
    }
   ],
   "source": [
    "model.save(log_path + save_file)"
   ]
  },
  {
   "cell_type": "code",
   "execution_count": 44,
   "metadata": {
    "colab": {},
    "colab_type": "code",
    "id": "VaaJfvxpvjF8"
   },
   "outputs": [],
   "source": [
    "# from keras.models import load_model\n",
    "# model = load_model(log_path + save_file)"
   ]
  },
  {
   "cell_type": "markdown",
   "metadata": {
    "colab_type": "text",
    "id": "fcZSKCp0vjF8"
   },
   "source": [
    "## 9) Evaluating the Model"
   ]
  },
  {
   "cell_type": "code",
   "execution_count": 45,
   "metadata": {
    "colab": {},
    "colab_type": "code",
    "id": "_ARfxXdHvjF8"
   },
   "outputs": [],
   "source": [
    "scores = model.evaluate_generator(generator=validation_generator, steps=STEP_SIZE_VALID)"
   ]
  },
  {
   "cell_type": "code",
   "execution_count": 46,
   "metadata": {
    "colab": {},
    "colab_type": "code",
    "id": "90-jvk4ovjF8"
   },
   "outputs": [
    {
     "name": "stdout",
     "output_type": "stream",
     "text": [
      "\n",
      "loss: 777.04%\n",
      "\n",
      "precision_score: 48.63%\n"
     ]
    }
   ],
   "source": [
    "print(\"\\n%s: %.2f%%\" % (model.metrics_names[0], scores[0]*100))\n",
    "print(\"\\n%s: %.2f%%\" % (model.metrics_names[1], scores[1]*100))"
   ]
  },
  {
   "cell_type": "markdown",
   "metadata": {
    "colab_type": "text",
    "id": "BgJ4hsSSvjF9"
   },
   "source": [
    "### Learning Curves\n"
   ]
  },
  {
   "cell_type": "markdown",
   "metadata": {
    "colab_type": "text",
    "id": "JZaOCiHcvjF9"
   },
   "source": [
    "#### Plot Training & Validation accuracy values"
   ]
  },
  {
   "cell_type": "code",
   "execution_count": 47,
   "metadata": {
    "colab": {},
    "colab_type": "code",
    "id": "bUT13gSsvjF9"
   },
   "outputs": [],
   "source": [
    "# plt.plot(history.history['acc'])\n",
    "# plt.plot(history.history['val_acc'])\n",
    "# plt.title('Model accuracy')\n",
    "# plt.ylabel('Accuracy')\n",
    "# plt.xlabel('Epoch')\n",
    "# plt.legend(['Train', 'Validation'], loc='lower right')\n",
    "# plt.show()"
   ]
  },
  {
   "cell_type": "markdown",
   "metadata": {
    "colab_type": "text",
    "id": "ZH6hVT8BvjF9"
   },
   "source": [
    "#### Plot Training & Validation losses values"
   ]
  },
  {
   "cell_type": "code",
   "execution_count": 48,
   "metadata": {
    "colab": {},
    "colab_type": "code",
    "id": "uWZTDVUcvjF9"
   },
   "outputs": [],
   "source": [
    "# plt.plot(history.history['loss'])\n",
    "# plt.plot(history.history['val_loss'])\n",
    "# plt.title('Model Entropy Loss')\n",
    "# plt.ylabel('Loss')\n",
    "# plt.xlabel('Epoch')\n",
    "# plt.legend(['loss', 'val loss'], loc='lower right')\n",
    "# plt.show()"
   ]
  },
  {
   "cell_type": "markdown",
   "metadata": {},
   "source": [
    "Um modelo que converge bem possui o gráfico de perda (*loss*) descendente e os gráfico de precisão (*precision*), sensibilidade (*recall*) e pontuação f1 (*f1 score*) em acendente."
   ]
  },
  {
   "cell_type": "code",
   "execution_count": 49,
   "metadata": {},
   "outputs": [
    {
     "data": {
      "image/png": "[encoded data removed]",
      "text/plain": [
       "<Figure size 432x288 with 1 Axes>"
      ]
     },
     "metadata": {
      "needs_background": "light"
     },
     "output_type": "display_data"
    },
    {
     "data": {
      "image/png": "[encoded data removed]",
      "text/plain": [
       "<Figure size 432x288 with 1 Axes>"
      ]
     },
     "metadata": {
      "needs_background": "light"
     },
     "output_type": "display_data"
    },
    {
     "data": {
      "image/png": "[encoded data removed]",
      "text/plain": [
       "<Figure size 432x288 with 1 Axes>"
      ]
     },
     "metadata": {
      "needs_background": "light"
     },
     "output_type": "display_data"
    },
    {
     "data": {
      "image/png": "[encoded data removed]",
      "text/plain": [
       "<Figure size 432x288 with 1 Axes>"
      ]
     },
     "metadata": {
      "needs_background": "light"
     },
     "output_type": "display_data"
    }
   ],
   "source": [
    "# Exibindo dados de Precisão\n",
    "plt.plot(history.history['precision_score'])\n",
    "plt.plot(history.history['val_precision_score'])\n",
    "plt.title('model precision')\n",
    "plt.ylabel('precision')\n",
    "plt.xlabel('epoch')\n",
    "plt.legend(['train', 'test'], loc='upper left')\n",
    "plt.show()\n",
    "\n",
    "# Exibindo dados de Sensibilidade\n",
    "plt.plot(history.history['recall_score'])\n",
    "plt.plot(history.history['val_recall_score'])\n",
    "plt.title('model recall')\n",
    "plt.ylabel('recall')\n",
    "plt.xlabel('epoch')\n",
    "plt.legend(['train', 'test'], loc='upper left')\n",
    "plt.show()\n",
    "\n",
    "# Exibindo dados de F1 Score\n",
    "plt.plot(history.history['f1_score'])\n",
    "plt.plot(history.history['val_f1_score'])\n",
    "plt.title('model f1_score')\n",
    "plt.ylabel('f1_score')\n",
    "plt.xlabel('epoch')\n",
    "plt.legend(['train', 'test'], loc='upper left')\n",
    "plt.show()\n",
    "\n",
    "# Exibindo dados de Perda\n",
    "plt.plot(history.history['loss'])\n",
    "plt.plot(history.history['val_loss'])\n",
    "plt.title('model loss')\n",
    "plt.ylabel('loss')\n",
    "plt.xlabel('epoch')\n",
    "plt.legend(['train', 'test'], loc='upper left')\n",
    "plt.show()"
   ]
  },
  {
   "cell_type": "markdown",
   "metadata": {},
   "source": [
    "**Pergunta**: Avalie os gráficos de perda (*loss*), precisão (*precision*), sensibilidade (*recall*) e pontuação f1 (*f1 score*)  e explique o comportamento de ambos no que tange a convergência do modelo."
   ]
  },
  {
   "cell_type": "markdown",
   "metadata": {},
   "source": [
    "**Resposta**:\n",
    "\n",
    "Podemos observar que esse modelo está com overfitting, dado que a precisão, sensibilidade e F1 do conjunto de testes não evoluiram e a perda do modelo do conjunto de teste está aumentando a cada época."
   ]
  },
  {
   "cell_type": "markdown",
   "metadata": {
    "colab_type": "text",
    "id": "XT831v5JiLdQ"
   },
   "source": [
    "the object created by datagen.flow doesn't know its size, and accordingly you should specify how many times it is expected to yield values, which you can calculate in conjunction with a batch size.\n",
    "\n",
    "Say you have 100 training points and want to work with a batch size of 30. Then, you would have 4 steps per epoch, calculated in the following way:"
   ]
  },
  {
   "cell_type": "markdown",
   "metadata": {},
   "source": [
    "**Pergunta**: Quais são os valores de **precisão (precision)**, **sensibilidade (recall)** de validação? \n",
    "\n",
    "*Estes valores são exibidos durante o treinamento, utilize a última saída, exemplo:*\n",
    "\n",
    "```\n",
    "Epoch 10/10 [==============================] - 45s 9s/step - loss: 0.1234 - precision_score: 0.9742 - recall_score: 0.9683 - f1_score: 0.9712 - val_loss: 0.8819 - val_precision_score: 0.6912 - val_recall_score: 0.5649 - val_f1_score: 0.6216```\n",
    "\n",
    "No caso acima, o valor de precisão, sensibilidade e pontuação de validação são, respectivamente, 69,12%, 56,49% e 62,16%."
   ]
  },
  {
   "cell_type": "code",
   "execution_count": null,
   "metadata": {
    "colab": {},
    "colab_type": "code",
    "id": "FB_Zz8_MvjF7"
   },
   "outputs": [],
   "source": [
    "classifier.save(log_path + save_file)"
   ]
  },
  {
   "cell_type": "code",
   "execution_count": null,
   "metadata": {
    "colab": {},
    "colab_type": "code",
    "id": "VaaJfvxpvjF8"
   },
   "outputs": [],
   "source": [
    "from keras.models import load_model\n",
    "model = load_model(log_path + save_file)"
   ]
  },
  {
   "cell_type": "markdown",
   "metadata": {},
   "source": [
    "**Resposta**:\n",
    "\n",
    "Precisão de validação: 50%  \n",
    "Sensibilidade de validação: 50%  \n",
    "Pontuação de validação: 50% "
   ]
  },
  {
   "cell_type": "markdown",
   "metadata": {
    "colab_type": "text",
    "id": "fcZSKCp0vjF8"
   },
   "source": [
    "## 9) Evaluating the Model"
   ]
  },
  {
   "cell_type": "code",
   "execution_count": null,
   "metadata": {
    "colab": {
     "base_uri": "https://localhost:8080/",
     "height": 33
    },
    "colab_type": "code",
    "executionInfo": {
     "elapsed": 9400,
     "status": "ok",
     "timestamp": 1578174724908,
     "user": {
      "displayName": "André Rodrigues",
      "photoUrl": "https://lh3.googleusercontent.com/a-/AAuE7mC4VcoLAlPEtIAJVPWTppZJ9S3ou2QH75zgDkJrgn0=s64",
      "userId": "01975921740661022202"
     },
     "user_tz": 180
    },
    "id": "LR-9-XGZiLdW",
    "outputId": "8a725381-cdc6-4afc-8dad-3239ab63a0b7"
   },
   "outputs": [],
   "source": [
    "STEP_SIZE_TEST=test_generator.n//test_generator.batch_size\n",
    "STEP_SIZE_TEST"
   ]
  },
  {
   "cell_type": "code",
   "execution_count": null,
   "metadata": {
    "colab": {},
    "colab_type": "code",
    "id": "_ARfxXdHvjF8"
   },
   "outputs": [],
   "source": [
    "scores = model.evaluate_generator(generator=validation_generator, steps=STEP_SIZE_VALID)"
   ]
  },
  {
   "cell_type": "markdown",
   "metadata": {},
   "source": [
    "### 4.5.2 Arquitetura VGG16"
   ]
  },
  {
   "cell_type": "code",
   "execution_count": null,
   "metadata": {
    "colab": {},
    "colab_type": "code",
    "id": "90-jvk4ovjF8"
   },
   "outputs": [],
   "source": [
    "print(\"\\n%s: %.2f%%\" % (model.metrics_names[0], scores[0]*100))\n",
    "print(\"\\n%s: %.2f%%\" % (model.metrics_names[1], scores[1]*100))"
   ]
  },
  {
   "cell_type": "code",
   "execution_count": null,
   "metadata": {
    "colab": {
     "base_uri": "https://localhost:8080/",
     "height": 33
    },
    "colab_type": "code",
    "executionInfo": {
     "elapsed": 9392,
     "status": "ok",
     "timestamp": 1578174724909,
     "user": {
      "displayName": "André Rodrigues",
      "photoUrl": "https://lh3.googleusercontent.com/a-/AAuE7mC4VcoLAlPEtIAJVPWTppZJ9S3ou2QH75zgDkJrgn0=s64",
      "userId": "01975921740661022202"
     },
     "user_tz": 180
    },
    "id": "8Ird9eoLvjF6",
    "outputId": "2461da2c-c5a6-4b6f-a95f-3c51a7bb4a14"
   },
   "outputs": [],
   "source": [
    "STEP_SIZE_VALID=validation_generator.n//validation_generator.batch_size\n",
    "STEP_SIZE_VALID"
   ]
  },
  {
   "cell_type": "markdown",
   "metadata": {
    "colab_type": "text",
    "id": "BgJ4hsSSvjF9"
   },
   "source": [
    "### Learning Curves\n"
   ]
  },
  {
   "cell_type": "markdown",
   "metadata": {},
   "source": [
    "**Pergunta**: Explique como é constituída a arquitetura do VGG16? *Utilize, se necessário, gráficos, projetos que utilizam essa arquitetura. Detalhe também sua topologia em camadas e mostre quais as situações essa arquitetura pode ter mais êxito e quais cenários não tem.*"
   ]
  },
  {
   "cell_type": "markdown",
   "metadata": {
    "colab_type": "text",
    "id": "JZaOCiHcvjF9"
   },
   "source": [
    "#### Plot Training & Validation accuracy values"
   ]
  },
  {
   "cell_type": "code",
   "execution_count": null,
   "metadata": {
    "colab": {
     "base_uri": "https://localhost:8080/",
     "height": 865
    },
    "colab_type": "code",
    "executionInfo": {
     "elapsed": 22713,
     "status": "error",
     "timestamp": 1578174738240,
     "user": {
      "displayName": "André Rodrigues",
      "photoUrl": "https://lh3.googleusercontent.com/a-/AAuE7mC4VcoLAlPEtIAJVPWTppZJ9S3ou2QH75zgDkJrgn0=s64",
      "userId": "01975921740661022202"
     },
     "user_tz": 180
    },
    "id": "Pwj847HavjF6",
    "outputId": "1bf5e1c9-c7a5-4481-f3f2-988d048464ad"
   },
   "outputs": [],
   "source": [
    "# fit model\n",
    "history = model.fit_generator(\n",
    "    generator=train_generator\n",
    "    ,steps_per_epoch=STEP_SIZE_TRAIN\n",
    "    ,validation_data=validation_generator\n",
    "    ,validation_steps=STEP_SIZE_VALID\n",
    "    ,epochs=qtde_epocas\n",
    "    ,callbacks= callbacks\n",
    "#     , class_weight = class_weight\n",
    ")\n",
    "\n",
    "\n",
    "\n",
    "# history = classifier.fit_generator(training_set,\n",
    "#                                        #steps_per_epoch = 752,\n",
    "#                                        #validation_steps = 188,\n",
    "#                                        epochs = EPOCHS, \n",
    "#                                        validation_data = test_set)"
   ]
  },
  {
   "cell_type": "code",
   "execution_count": null,
   "metadata": {
    "colab": {},
    "colab_type": "code",
    "id": "bUT13gSsvjF9"
   },
   "outputs": [],
   "source": [
    "plt.plot(history.history['acc'])\n",
    "plt.plot(history.history['val_acc'])\n",
    "plt.title('Model accuracy')\n",
    "plt.ylabel('Accuracy')\n",
    "plt.xlabel('Epoch')\n",
    "plt.legend(['Train', 'Validation'], loc='lower right')\n",
    "plt.show()"
   ]
  },
  {
   "cell_type": "markdown",
   "metadata": {},
   "source": [
    "**Resposta**:\n",
    "\n",
    "VGG 16 is 16 layer architecture with a pair of convolution layers, poolings layer and at the end fully connected layer. VGG network is the idea of much deeper networks and with much smaller filters. VGGNet increased the number of layers from eight layers in AlexNet. Right now it had models with 16 to 19 layers variant of VGGNet. One key thing is that these models kept very small filters with 3 x 3 conv all the way, which is basically the smallest conv filter size that is looking at a little bit of the neighbouring pixels. And they just kept this very simple structure of 3 x 3 convs with the periodic pooling all the way through the network.\n",
    "VGG used small filters because of fewer parameters and stack more of them instead of having larger filters. VGG has smaller filters with more depth instead of having large filters. It has ended up having the same effective receptive field as if you only have one 7 x 7 convolutional layers.\n",
    "VGGNet has conv layers and a pooling layer a couple more conv layers, pooling layer, several more conv layers and so on. VGG architecture has the 16 total number of convolutional and fully connected layers. It has 16 in this case for VGG 16, and then 19 for VGG 19, it’s just a very similar architecture, but with a few more conv layers in there.\n",
    "\n",
    "![](https://i.ibb.co/hKwc7DD/vgg16-mem.png)\n",
    "\n",
    "So this is quite costly computations with 138M total Parameter and each image has a memory of 96MB which is so much large than a regular image. It has just a 7.3 error rate in the ILSVRC challenge.\n",
    "\n",
    "\n",
    "\n",
    "![](https://i.ibb.co/YLP8YPm/vgg-arch.png)\n",
    "\n",
    "De acordo com a análise realizada por Alfredo Canziani, Eugenio Culurciello e Adam Paszke ( https://arxiv.org/pdf/1605.07678.pdf ), a arquitetura VGG16 é a que mais demanda em memória na maioria das vezes.\n",
    "\n",
    "![](https://i.ibb.co/Lrrb9m5/VGG-Analysis.png)"
   ]
  },
  {
   "cell_type": "markdown",
   "metadata": {
    "colab_type": "text",
    "id": "ZH6hVT8BvjF9"
   },
   "source": [
    "#### Plot Training & Validation losses values"
   ]
  },
  {
   "cell_type": "code",
   "execution_count": null,
   "metadata": {},
   "outputs": [],
   "source": [
    "conv_base = VGG16(include_top=False)\n",
    "\n",
    "for layer in conv_base.layers:\n",
    "    layer.trainable = False"
   ]
  },
  {
   "cell_type": "code",
   "execution_count": null,
   "metadata": {
    "colab": {},
    "colab_type": "code",
    "id": "uWZTDVUcvjF9"
   },
   "outputs": [],
   "source": [
    "plt.plot(history.history['loss'])\n",
    "plt.plot(history.history['val_loss'])\n",
    "plt.title('Model Entropy Loss')\n",
    "plt.ylabel('Loss')\n",
    "plt.xlabel('Epoch')\n",
    "plt.legend(['loss', 'val loss'], loc='lower right')\n",
    "plt.show()"
   ]
  },
  {
   "cell_type": "code",
   "execution_count": null,
   "metadata": {},
   "outputs": [],
   "source": [
    "x = conv_base.output\n",
    "x = layers.GlobalAveragePooling2D()(x)\n",
    "x = layers.Dense(128, activation='relu')(x) \n",
    "\n",
    "predictions = layers.Dense(qtde_classes, activation='softmax')(x)\n",
    "model = Model(conv_base.input, predictions)\n",
    "\n",
    "model.summary()"
   ]
  },
  {
   "cell_type": "code",
   "execution_count": null,
   "metadata": {},
   "outputs": [],
   "source": [
    "optimizer = keras.optimizers.Adam()\n",
    "model.compile(loss='categorical_crossentropy', optimizer=optimizer, metrics=[precision_score, recall_score, f1_score])"
   ]
  },
  {
   "cell_type": "code",
   "execution_count": null,
   "metadata": {},
   "outputs": [],
   "source": [
    "history = model.fit_generator(generator=train_generator, \n",
    "                              epochs=qtde_epocas, \n",
    "                              validation_steps=5, \n",
    "                              steps_per_epoch=5, \n",
    "                              validation_data=val_generator)"
   ]
  },
  {
   "cell_type": "markdown",
   "metadata": {},
   "source": [
    "Um modelo que converge bem possui o gráfico de perda (*loss*) descendente e os gráfico de precisão (*precision*), sensibilidade (*recall*) e pontuação f1 (*f1 score*) em acendente."
   ]
  },
  {
   "cell_type": "code",
   "execution_count": null,
   "metadata": {},
   "outputs": [],
   "source": [
    "# Exibindo dados de Precisão\n",
    "plt.plot(history.history['precision_score'])\n",
    "plt.plot(history.history['val_precision_score'])\n",
    "plt.title('model precision')\n",
    "plt.ylabel('precision')\n",
    "plt.xlabel('epoch')\n",
    "plt.legend(['train', 'test'], loc='upper left')\n",
    "plt.show()\n",
    "\n",
    "# Exibindo dados de Sensibilidade\n",
    "plt.plot(history.history['recall_score'])\n",
    "plt.plot(history.history['val_recall_score'])\n",
    "plt.title('model recall')\n",
    "plt.ylabel('recall')\n",
    "plt.xlabel('epoch')\n",
    "plt.legend(['train', 'test'], loc='upper left')\n",
    "plt.show()\n",
    "\n",
    "# Exibindo dados de F1 Score\n",
    "plt.plot(history.history['f1_score'])\n",
    "plt.plot(history.history['val_f1_score'])\n",
    "plt.title('model f1_score')\n",
    "plt.ylabel('f1_score')\n",
    "plt.xlabel('epoch')\n",
    "plt.legend(['train', 'test'], loc='upper left')\n",
    "plt.show()\n",
    "\n",
    "# Exibindo dados de Perda\n",
    "plt.plot(history.history['loss'])\n",
    "plt.plot(history.history['val_loss'])\n",
    "plt.title('model loss')\n",
    "plt.ylabel('loss')\n",
    "plt.xlabel('epoch')\n",
    "plt.legend(['train', 'test'], loc='upper left')\n",
    "plt.show()"
   ]
  },
  {
   "cell_type": "markdown",
   "metadata": {},
   "source": [
    "**Pergunta**: Avalie os gráficos de perda (*loss*), precisão (*precision*), sensibilidade (*recall*) e pontuação f1 (*f1 score*)  e explique o comportamento de ambos no que tange a convergência do modelo."
   ]
  },
  {
   "cell_type": "markdown",
   "metadata": {},
   "source": [
    "**Resposta**:"
   ]
  },
  {
   "cell_type": "markdown",
   "metadata": {},
   "source": [
    "**Pergunta**: Quais são os valores de **precisão (precision)**, **sensibilidade (recall)** de validação? \n",
    "\n",
    "*Estes valores são exibidos durante o treinamento, utilize a última saída, exemplo:*\n",
    "\n",
    "```\n",
    "Epoch 10/10 [==============================] - 45s 9s/step - loss: 0.1234 - precision_score: 0.9742 - recall_score: 0.9683 - f1_score: 0.9712 - val_loss: 0.8819 - val_precision_score: 0.6912 - val_recall_score: 0.5649 - val_f1_score: 0.6216```\n",
    "\n",
    "No caso acima, o valor de precisão, sensibilidade e pontuação de validação são, respectivamente, 69,12%, 56,49% e 62,16%."
   ]
  },
  {
   "cell_type": "markdown",
   "metadata": {},
   "source": [
    "**Resposta**:"
   ]
  },
  {
   "cell_type": "markdown",
   "metadata": {},
   "source": [
    "### 4.5.3 Arquitetura VGG19"
   ]
  },
  {
   "cell_type": "markdown",
   "metadata": {},
   "source": [
    "**Pergunta**: Explique como é constituída a arquitetura do VGG19? *Utilize, se necessário, gráficos, projetos que utilizam essa arquitetura. Detalhe também sua topologia em camadas e mostre quais as situações essa arquitetura pode ter mais êxito e quais cenários não tem.*"
   ]
  },
  {
   "cell_type": "markdown",
   "metadata": {},
   "source": [
    "**Resposta**:"
   ]
  },
  {
   "cell_type": "code",
   "execution_count": null,
   "metadata": {},
   "outputs": [],
   "source": [
    "conv_base = VGG19(include_top=False)\n",
    "\n",
    "for layer in conv_base.layers:\n",
    "    layer.trainable = False"
   ]
  },
  {
   "cell_type": "code",
   "execution_count": null,
   "metadata": {},
   "outputs": [],
   "source": [
    "x = conv_base.output\n",
    "x = layers.GlobalAveragePooling2D()(x)\n",
    "x = layers.Dense(128, activation='relu')(x) \n",
    "\n",
    "predictions = layers.Dense(qtde_classes, activation='softmax')(x)\n",
    "model = Model(conv_base.input, predictions)\n",
    "\n",
    "model.summary()"
   ]
  },
  {
   "cell_type": "code",
   "execution_count": null,
   "metadata": {},
   "outputs": [],
   "source": [
    "optimizer = keras.optimizers.Adam()\n",
    "model.compile(loss='categorical_crossentropy', optimizer=optimizer, metrics=[precision_score, recall_score, f1_score])"
   ]
  },
  {
   "cell_type": "code",
   "execution_count": null,
   "metadata": {},
   "outputs": [],
   "source": [
    "history = model.fit_generator(generator=train_generator, \n",
    "                              epochs=qtde_epocas, \n",
    "                              validation_steps=5, \n",
    "                              steps_per_epoch=5, \n",
    "                              validation_data=val_generator)"
   ]
  },
  {
   "cell_type": "markdown",
   "metadata": {},
   "source": [
    "Um modelo que converge bem possui o gráfico de perda (*loss*) descendente e os gráfico de precisão (*precision*), sensibilidade (*recall*) e pontuação f1 (*f1 score*) em acendente."
   ]
  },
  {
   "cell_type": "code",
   "execution_count": null,
   "metadata": {},
   "outputs": [],
   "source": [
    "# Exibindo dados de Precisão\n",
    "plt.plot(history.history['precision_score'])\n",
    "plt.plot(history.history['val_precision_score'])\n",
    "plt.title('model precision')\n",
    "plt.ylabel('precision')\n",
    "plt.xlabel('epoch')\n",
    "plt.legend(['train', 'test'], loc='upper left')\n",
    "plt.show()\n",
    "\n",
    "# Exibindo dados de Sensibilidade\n",
    "plt.plot(history.history['recall_score'])\n",
    "plt.plot(history.history['val_recall_score'])\n",
    "plt.title('model recall')\n",
    "plt.ylabel('recall')\n",
    "plt.xlabel('epoch')\n",
    "plt.legend(['train', 'test'], loc='upper left')\n",
    "plt.show()\n",
    "\n",
    "# Exibindo dados de F1 Score\n",
    "plt.plot(history.history['f1_score'])\n",
    "plt.plot(history.history['val_f1_score'])\n",
    "plt.title('model f1_score')\n",
    "plt.ylabel('f1_score')\n",
    "plt.xlabel('epoch')\n",
    "plt.legend(['train', 'test'], loc='upper left')\n",
    "plt.show()\n",
    "\n",
    "# Exibindo dados de Perda\n",
    "plt.plot(history.history['loss'])\n",
    "plt.plot(history.history['val_loss'])\n",
    "plt.title('model loss')\n",
    "plt.ylabel('loss')\n",
    "plt.xlabel('epoch')\n",
    "plt.legend(['train', 'test'], loc='upper left')\n",
    "plt.show()"
   ]
  },
  {
   "cell_type": "markdown",
   "metadata": {},
   "source": [
    "**Pergunta**: Avalie os gráficos de perda (*loss*), precisão (*precision*), sensibilidade (*recall*) e pontuação f1 (*f1 score*)  e explique o comportamento de ambos no que tange a convergência do modelo."
   ]
  },
  {
   "cell_type": "markdown",
   "metadata": {},
   "source": [
    "**Resposta**:"
   ]
  },
  {
   "cell_type": "markdown",
   "metadata": {},
   "source": [
    "**Pergunta**: Quais são os valores de **precisão (precision)**, **sensibilidade (recall)** de validação? \n",
    "\n",
    "*Estes valores são exibidos durante o treinamento, utilize a última saída, exemplo:*\n",
    "\n",
    "```\n",
    "Epoch 10/10 [==============================] - 45s 9s/step - loss: 0.1234 - precision_score: 0.9742 - recall_score: 0.9683 - f1_score: 0.9712 - val_loss: 0.8819 - val_precision_score: 0.6912 - val_recall_score: 0.5649 - val_f1_score: 0.6216```\n",
    "\n",
    "No caso acima, o valor de precisão, sensibilidade e pontuação de validação são, respectivamente, 69,12%, 56,49% e 62,16%."
   ]
  },
  {
   "cell_type": "markdown",
   "metadata": {},
   "source": [
    "**Resposta**:"
   ]
  },
  {
   "cell_type": "markdown",
   "metadata": {},
   "source": [
    "## 4.6 Compartivo de arquiteturas\n",
    "\n",
    "Preencha a tabela abaixo com os valores dos indicadores de performance apresentados.\n",
    "\n",
    "_O cálculo do F1-Score é dado por 2 * (Precisão * Sensibilidade) / (Precisão + Sensibilidade)._"
   ]
  },
  {
   "cell_type": "markdown",
   "metadata": {},
   "source": [
    "| Modelo   | Precisão (*Precision*) | Sensibilidade (*Recall*) | F1-Score |\n",
    "|----------|----------|---------------|----------|\n",
    "| ResNet50 | XX %     | XX %          | XX %     |\n",
    "| VGG16    | XX %     | XX %          | XX %     |\n",
    "| VGG19    | XX %     | XX %          | XX %     |"
   ]
  },
  {
   "cell_type": "markdown",
   "metadata": {},
   "source": [
    "## 4.7 Conclusões\n",
    "\n",
    "Analise os resultados da tabela de indicadores do comparativo de arquiteturas e explique os principais motivos pelos quais cada modelo obteve cada resultado."
   ]
  },
  {
   "cell_type": "markdown",
   "metadata": {},
   "source": [
    "**Respota**:"
   ]
  },
  {
   "cell_type": "markdown",
   "metadata": {},
   "source": [
    "## 4.8 Abordagem Extra\n",
    "\n",
    "Considerando os outros classificadores, escolha outro que ainda não foi utilizado, implemente abaixo. Ao final compare os resultados e explique os resultados.\n",
    "\n",
    "_Não se esquece de utilizar as importações adequadas para cada modelo.\n",
    "A forma de implementação deve respeitar as mesmas condições como valor de split e quantidade de imagens para poder comparar os modelos._"
   ]
  },
  {
   "cell_type": "code",
   "execution_count": null,
   "metadata": {},
   "outputs": [],
   "source": [
    "#IMPLEMENTE"
   ]
  },
  {
   "cell_type": "markdown",
   "metadata": {},
   "source": [
    "### 4.8.1 Conclusões sobre a abordagem extra\n",
    "\n",
    "Como seu modelo performou em comparação com os demais modelos anteriores? Justifique sua resposta levando em consideração a arquitetura respectiva."
   ]
  },
  {
   "cell_type": "markdown",
   "metadata": {},
   "source": [
    "**Resposta**:"
   ]
  },
  {
   "cell_type": "code",
   "execution_count": null,
   "metadata": {},
   "outputs": [],
   "source": []
  },
  {
   "cell_type": "code",
   "execution_count": null,
   "metadata": {},
   "outputs": [],
   "source": []
  },
  {
   "cell_type": "markdown",
   "metadata": {},
   "source": [
    "### Referências"
   ]
  },
  {
   "cell_type": "markdown",
   "metadata": {},
   "source": [
    "https://www.quora.com/What-is-the-deep-neural-network-known-as-%E2%80%9CResNet-50%E2%80%9D  \n",
    "https://towardsdatascience.com/architecture-comparison-of-alexnet-vggnet-resnet-inception-densenet-beb8b116866d"
   ]
  },
  {
   "cell_type": "markdown",
   "metadata": {},
   "source": []
  }
 ],
 "metadata": {
  "kernelspec": {
   "display_name": "Python 3",
   "language": "python",
   "name": "python3"
  },
  "language_info": {
   "codemirror_mode": {
    "name": "ipython",
    "version": 3
   },
   "file_extension": ".py",
   "mimetype": "text/x-python",
   "name": "python",
   "nbconvert_exporter": "python",
   "pygments_lexer": "ipython3",
   "version": "3.5.6"
  }
 },
 "nbformat": 4,
 "nbformat_minor": 4
}
